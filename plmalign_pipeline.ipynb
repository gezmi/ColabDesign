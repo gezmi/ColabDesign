{
  "cells": [
    {
      "cell_type": "markdown",
      "metadata": {
        "id": "view-in-github",
        "colab_type": "text"
      },
      "source": [
        "<a href=\"https://colab.research.google.com/github/gezmi/ColabDesign/blob/main/plmalign_pipeline.ipynb\" target=\"_parent\"><img src=\"https://colab.research.google.com/assets/colab-badge.svg\" alt=\"Open In Colab\"/></a>"
      ]
    },
    {
      "cell_type": "markdown",
      "metadata": {
        "id": "8hbMITsHdAmR"
      },
      "source": [
        "<h1>1. Fast Start: Align all pairs between query & target</h1>"
      ]
    },
    {
      "cell_type": "code",
      "source": [
        "%%bash\n",
        "git clone https://github.com/maovshao/PLMAlign.git\n",
        "\n",
        "pip install fair-esm biopython\n"
      ],
      "metadata": {
        "colab": {
          "base_uri": "https://localhost:8080/"
        },
        "id": "rQN5qsVFgkne",
        "outputId": "17d6c52f-9d0f-4f67-e895-4740c34dd583"
      },
      "execution_count": 1,
      "outputs": [
        {
          "output_type": "stream",
          "name": "stdout",
          "text": [
            "Collecting fair-esm\n",
            "  Downloading fair_esm-2.0.0-py3-none-any.whl (93 kB)\n",
            "     ━━━━━━━━━━━━━━━━━━━━━━━━━━━━━━━━━━━━━━━━ 93.1/93.1 kB 1.9 MB/s eta 0:00:00\n",
            "Collecting biopython\n",
            "  Downloading biopython-1.83-cp310-cp310-manylinux_2_17_x86_64.manylinux2014_x86_64.whl (3.1 MB)\n",
            "     ━━━━━━━━━━━━━━━━━━━━━━━━━━━━━━━━━━━━━━━━ 3.1/3.1 MB 13.6 MB/s eta 0:00:00\n",
            "Requirement already satisfied: numpy in /usr/local/lib/python3.10/dist-packages (from biopython) (1.25.2)\n",
            "Installing collected packages: fair-esm, biopython\n",
            "Successfully installed biopython-1.83 fair-esm-2.0.0\n"
          ]
        },
        {
          "output_type": "stream",
          "name": "stderr",
          "text": [
            "Cloning into 'PLMAlign'...\n"
          ]
        }
      ]
    },
    {
      "cell_type": "code",
      "source": [
        "%cd PLMAlign"
      ],
      "metadata": {
        "colab": {
          "base_uri": "https://localhost:8080/"
        },
        "id": "ujYMasaRh7lE",
        "outputId": "8f1fbf88-ce20-4723-dfdb-f78e07b44197"
      },
      "execution_count": 3,
      "outputs": [
        {
          "output_type": "stream",
          "name": "stdout",
          "text": [
            "/content/PLMAlign\n"
          ]
        }
      ]
    },
    {
      "cell_type": "code",
      "source": [
        "%load_ext autoreload\n",
        "%autoreload 2\n",
        "\n",
        "# first edit the model path in embedding generate.py to Rostlab/prot_t5_xl_uniref50\n",
        "# then run this cell\n",
        "# this cell is to be able to edit the code and applying it without restarting the runtime"
      ],
      "metadata": {
        "id": "mHVKvhj6kgOE",
        "colab": {
          "base_uri": "https://localhost:8080/"
        },
        "outputId": "ec1d5f51-6187-4be2-a518-19ee30496844"
      },
      "execution_count": 4,
      "outputs": [
        {
          "output_type": "stream",
          "name": "stdout",
          "text": [
            "The autoreload extension is already loaded. To reload it, use:\n",
            "  %reload_ext autoreload\n"
          ]
        }
      ]
    },
    {
      "cell_type": "code",
      "execution_count": 6,
      "metadata": {
        "colab": {
          "base_uri": "https://localhost:8080/",
          "height": 1000,
          "referenced_widgets": [
            "8da2d30189734341af7d4bc28d74f126",
            "846b571f9f194c9799a96ee6d1dbb339",
            "abaef0e1d9eb4307a1c37fdc7ae87442",
            "6388041ed7904305a2a97afa42759a4e",
            "33aaf85a4c754d2cb5e7121145b13cb3",
            "0e7e35e706bc4efe9748b9f3c84a49aa",
            "8e1b171cf7e24b98960562882e25dd07",
            "cb1302a94a3246f498f862e63d435863",
            "1fe7127a6e9d4c40bc160c1a73a4bd8b",
            "7aca4c1a4421425dbd6dec128cab708c",
            "9611a4d6ffae42648e87ce62adaa0a49",
            "60b23f5f4ce641fbbd2bf6c60f8e62ad",
            "2f5c280bbbe747f09eb0e7a65d68f973",
            "183325266e6341dca98cf6a921b0f53c",
            "2a086590bde449b4a05685a3272b07cc",
            "7ad81ddca9004261b0cad8fb90777726",
            "f388669e651d41539f97c3d0bbb165b7",
            "11ec9e148f464129bbe99a8f88e7cdca",
            "c09d505c1ad247c18cc0de0bfa0747a7",
            "cef92b3dae264b029b69c734c979ee6f",
            "7409b9ec291448da82715029d5ed4343",
            "62d5ee269aea45b589a568ec85bc5ad4",
            "63ffd383acab44178bd3750258df9aca",
            "84fdfc67b7604ab1bc7df5b5214cc06a",
            "d4bd8b27c90d4028b1b1805cd6391751",
            "9762419aa7d2419ea564a23e0b84615b",
            "77353c95824a4c52890931c797bad716",
            "9af216558eb34c9db9645a3703095d26",
            "9d8202c1b4664caf9138cf003bf7fbf3",
            "a0324f7e54cc4e5ba2b26aed5a0ed024",
            "6e931681861f457bbd265b0fc6f2efe1",
            "14af6a2294ed41c0896b0c43da19b8a3",
            "2d522264d98b486aa89e0c1678f6120c",
            "16a7c619812e4771b5af09021c71b996",
            "6328024d0d424f5c8b3b5ee95c75ed5a",
            "82d58e8950b8458091fbb3d6964d90a1",
            "9dfe86b0cd8a4f159c5a61aee50aa622",
            "4a7a105cd2044fe180d053dd1fe768b6",
            "9831815903fb4653beb885d077d54486",
            "b6cba7fafbf24d68b1fdbbce467323e8",
            "2a37e284e0cc4f20ad0846e03be70699",
            "945543980fdc4579b28acb5be35be4b3",
            "2e9cf01830694194989240ad2e592dd1",
            "6d08c1db22d740ec98b1789ac985b5e8",
            "08a51526440b4a11bbe31f6f39a1dfe0",
            "6931907437794495a7b38d0318925c01",
            "a53bd9f8529b473dbf1b9d99aa148d3f",
            "dcc87487545f4f9794fe7bf6d5787de9",
            "05e76050ba4f414fa78742664222ba65",
            "1a3a9df6bbe04a919581af64eaa0db69",
            "8e5c6747f9bb43aa8bb1352c34735899",
            "55d9da23f05f4ae7b7b724ff4ba5f20f",
            "49edb1848b0542689d39299d021fc345",
            "044da5ad71e64dba9408c6f30f97ef2a",
            "3455798602d24c379d20d6cdde2891fd"
          ]
        },
        "id": "dS8ev-9ZdAmS",
        "outputId": "14dcf78f-d07a-41c1-a6f3-ea96b27ff3c5"
      },
      "outputs": [
        {
          "output_type": "stream",
          "name": "stdout",
          "text": [
            "Align with method: plmalign\n",
            "Using device: cpu\n",
            "##########################\n",
            "Loading cached model from: Rostlab/prot_t5_xl_uniref50\n",
            "##########################\n"
          ]
        },
        {
          "output_type": "stream",
          "name": "stderr",
          "text": [
            "/usr/local/lib/python3.10/dist-packages/huggingface_hub/utils/_token.py:88: UserWarning: \n",
            "The secret `HF_TOKEN` does not exist in your Colab secrets.\n",
            "To authenticate with the Hugging Face Hub, create a token in your settings tab (https://huggingface.co/settings/tokens), set it as secret in your Google Colab and restart your session.\n",
            "You will be able to reuse this secret in all of your notebooks.\n",
            "Please note that authentication is recommended but still optional to access public models or datasets.\n",
            "  warnings.warn(\n"
          ]
        },
        {
          "output_type": "display_data",
          "data": {
            "text/plain": [
              "config.json:   0%|          | 0.00/546 [00:00<?, ?B/s]"
            ],
            "application/vnd.jupyter.widget-view+json": {
              "version_major": 2,
              "version_minor": 0,
              "model_id": "8da2d30189734341af7d4bc28d74f126"
            }
          },
          "metadata": {}
        },
        {
          "output_type": "display_data",
          "data": {
            "text/plain": [
              "pytorch_model.bin:   0%|          | 0.00/11.3G [00:00<?, ?B/s]"
            ],
            "application/vnd.jupyter.widget-view+json": {
              "version_major": 2,
              "version_minor": 0,
              "model_id": "60b23f5f4ce641fbbd2bf6c60f8e62ad"
            }
          },
          "metadata": {}
        },
        {
          "output_type": "display_data",
          "data": {
            "text/plain": [
              "tokenizer_config.json:   0%|          | 0.00/24.0 [00:00<?, ?B/s]"
            ],
            "application/vnd.jupyter.widget-view+json": {
              "version_major": 2,
              "version_minor": 0,
              "model_id": "63ffd383acab44178bd3750258df9aca"
            }
          },
          "metadata": {}
        },
        {
          "output_type": "display_data",
          "data": {
            "text/plain": [
              "spiece.model:   0%|          | 0.00/238k [00:00<?, ?B/s]"
            ],
            "application/vnd.jupyter.widget-view+json": {
              "version_major": 2,
              "version_minor": 0,
              "model_id": "16a7c619812e4771b5af09021c71b996"
            }
          },
          "metadata": {}
        },
        {
          "output_type": "display_data",
          "data": {
            "text/plain": [
              "special_tokens_map.json:   0%|          | 0.00/1.79k [00:00<?, ?B/s]"
            ],
            "application/vnd.jupyter.widget-view+json": {
              "version_major": 2,
              "version_minor": 0,
              "model_id": "08a51526440b4a11bbe31f6f39a1dfe0"
            }
          },
          "metadata": {}
        },
        {
          "output_type": "stream",
          "name": "stderr",
          "text": [
            "You are using the default legacy behaviour of the <class 'transformers.models.t5.tokenization_t5.T5Tokenizer'>. This is expected, and simply means that the `legacy` (previous) behavior will be used so nothing changes for you. If you want to use the new behaviour, set `legacy=False`. This should only be set if you understand what it means, and thoroughly read the reason why this was added as explained in https://github.com/huggingface/transformers/pull/24565\n"
          ]
        },
        {
          "output_type": "stream",
          "name": "stdout",
          "text": [
            "########################################\n",
            "Total number of sequences: 1\n",
            "Average sequence length: 367.0\n",
            "Number of sequences >1022: 0\n"
          ]
        },
        {
          "output_type": "stream",
          "name": "stderr",
          "text": [
            "100%|██████████| 1/1 [00:19<00:00, 19.72s/it]"
          ]
        },
        {
          "output_type": "stream",
          "name": "stdout",
          "text": [
            "Embedded protein P0AD96 with length 367 to emb. of shape: torch.Size([367, 1024])\n",
            "\n",
            "############# STATS #############\n",
            "Total number of embeddings: 1\n"
          ]
        },
        {
          "output_type": "stream",
          "name": "stderr",
          "text": [
            "\n"
          ]
        },
        {
          "output_type": "stream",
          "name": "stdout",
          "text": [
            "Using device: cpu\n",
            "##########################\n",
            "Loading cached model from: Rostlab/prot_t5_xl_uniref50\n",
            "##########################\n",
            "########################################\n",
            "Total number of sequences: 5\n",
            "Average sequence length: 330.6\n",
            "Number of sequences >1022: 0\n"
          ]
        },
        {
          "output_type": "stream",
          "name": "stderr",
          "text": [
            "100%|██████████| 5/5 [02:00<00:00, 24.20s/it]"
          ]
        },
        {
          "output_type": "stream",
          "name": "stdout",
          "text": [
            "Embedded protein P22768 with length 420 to emb. of shape: torch.Size([420, 1024])\n",
            "\n",
            "############# STATS #############\n",
            "Total number of embeddings: 5\n"
          ]
        },
        {
          "output_type": "stream",
          "name": "stderr",
          "text": [
            "\n",
            "Query: 100%|██████████| 1/1 [00:07<00:00,  7.08s/it]"
          ]
        },
        {
          "output_type": "stream",
          "name": "stdout",
          "text": [
            "P0AD96\tP0AD96\t Score = 35.781009674072266\n",
            "\n",
            "P0AD96\tP0AD96\n",
            "MNIKGKALLAGCIALAFSNMALAEDIKVAVVGAMSGPVAQYGDQEFTGAEQAVADINAKGGIKGNKLQIVKYDDACDPKQAVAVANKVVNDGIKYVIGHLCSSSTQPASDIYEDEGILMITPAATAPELTARGYQLILRTTGLDSDQGPTAAKYILEKVKPQRIAIVHDKQQYGEGLARAVQDGLKKGNANVVFFDGITAGEKDFSTLVARLKKENIDFVYYGGYHPEMGQILRQARAAGLKTQFMGPEGVANVSLSNIAGESAEGLLVTKPKNYDQVPANKPIVDAIKAKKQDPSGAFVWTTYAALQSLQAGLNQSDDPAEIAKYLKANSVDTVMGPLTWDEKGDLKGFEFGVFDWHANGTATDAK\n",
            "|||||||||||||||||||||||||||||||||||||||||||||||||||||||||||||||||||||||||||||||||||||||||||||||||||||||||||||||||||||||||||||||||||||||||||||||||||||||||||||||||||||||||||||||||||||||||||||||||||||||||||||||||||||||||||||||||||||||||||||||||||||||||||||||||||||||||||||||||||||||||||||||||||||||||||||||||||||||||||||||||||||||||||||||||||||||||||||||||||||||||||||||\n",
            "MNIKGKALLAGCIALAFSNMALAEDIKVAVVGAMSGPVAQYGDQEFTGAEQAVADINAKGGIKGNKLQIVKYDDACDPKQAVAVANKVVNDGIKYVIGHLCSSSTQPASDIYEDEGILMITPAATAPELTARGYQLILRTTGLDSDQGPTAAKYILEKVKPQRIAIVHDKQQYGEGLARAVQDGLKKGNANVVFFDGITAGEKDFSTLVARLKKENIDFVYYGGYHPEMGQILRQARAAGLKTQFMGPEGVANVSLSNIAGESAEGLLVTKPKNYDQVPANKPIVDAIKAKKQDPSGAFVWTTYAALQSLQAGLNQSDDPAEIAKYLKANSVDTVMGPLTWDEKGDLKGFEFGVFDWHANGTATDAK\n",
            "\n",
            "P0AD96\tP15104\t Score = 5.207385063171387\n",
            "\n",
            "P0AD96\tP15104\n",
            "MNIKGKALLAG-CIALAFS-NMALAEDIKVA-V-VGAMSGPVAQ-Y-G-DQ-E-FTGAE-QA-V-ADINA-K-GGIKGNKL-Q-IVKY--D-D-A-C-DPKQAV-AVANKVVNDGIKYVIGHLCSSSTQPAS-DIYEDEG-ILMITP-----AA-TAPELTA--R-GYQLILRTTGLDSDQGPTAAKYILEKVKPQRIAIVHD-KQQYGEGLARAVQDGLKKGNANVVFFDGI-TA-GEKDFSTLVARLKKENIDFVYYGGYHP-E-MGQILR-Q-A-RAAGLKTQFMG-PEGVAN-VSLSN-IAGESAEGLL-VT-KPKNYD-Q-VPANKPIVDAIK-AK---KQ-DPSGAFVWTTY-AALQSLQAGLNQSDDPAEIAKYLKAN-SVDTVM-G-PLTWDE-K--GDLKGFEF-------GVFDWHAN-----GTATD-A-K----\n",
            "|||||||||||  ||||||  |||||||||    || ||||||      |    ||||| ||   ||||     |||||||   ||||          ||||   | ||||||||||||||||||||||||| ||||||| || |||     || |||||||  | ||||||||||||||||||||            ||||  | ||||||||||||||||||||||||||| ||  ||||||  ||||  ||||   ||| |   ||||||     ||||||||||   ||||| |  |   |||||||      ||||      |||||||||||      || ||||||||||| |||||||| ||||||||||||||||  |||| |    |||||    ||||||||       ||||||||     ||||    |    \n",
            "MTTSASSHLNKG-IKQVYMS-LPQGEKVQA-M-YIW-IDGTGE-G-L-RC-K-TRTLDSEPKC-VEELP-E-W-NFDGSSTL-QSEGSNS-D-M-Y-LVPAA--MF-RDPFRKDPNKLVLCEVFKYNRRPAETNLRHTCKRIM-DMVSNQHPWFGMEQEYTLMGTDGHPFGWPSNGFPGPQGPYYC------------GVGA-DR-AYGRDIVEAHYRACLYAGVKIAGTNAEVMPA-QWEFQI--GPCE--GISM---GDH-LW-VARFILHR-V-CEDFGVIATFD-P-KPIPGNW--N-G-AGCHTNF--S--TKAMR--E-E-NGLKYIEEAIEK--LSKRHQYHIRAYDPKGGLDNARRLTG-FHETSNINDFSAGVAN-RSASI-RI-P-RTVGQE-KKGYFEDRRPSANCDPFSVTEALIRTCLLNETGD-E-PFQYKN\n",
            "\n",
            "P0AD96\tP22768\t Score = 5.570289134979248\n",
            "\n",
            "P0AD96\tP22768\n",
            "MNIKGKALLAGCIALAFSNMA-L--AEDI--KVA-VVGAMSGPVAQYGDQE-FTGAEQ-A-V-ADINAK-G-GIKGNKLQIVKYDDACDPK-Q-A-V-AVAN---KV-------------------------VND-GIKYVIG-HLCSSST-Q--PAS-DI-Y-EDE-G-I-LMITPAATAPELTARGYQLILRTTGLDSDQGPTAAKYILEKVKPQR--IA--IVHDKQ-QY----GEGL-ARAVQDGLKKGN-A-NVV-FFDGITAGEKDF-STLVARLKKENIDFVYY------GG-YHPEMGQIL----RQARAAGLKTQFMGPEG---------VAN-VSLSN--IAGESAEGLLVTKPK-N-YD-QVPANKPIVDAIKAKKQDPSGAF-VWTTYAALQ-S-L-QAGLNQSDDPA-E-I-AKYLK-A-NSVDTV-MGP-LT-W-D-E-KGD-L-----K---GFEF---------GVFDWHANGTATD-----A-K-\n",
            "||| ||||||||||||||||     ||||  |||  |||||||||       ||||||         |    ||||   |  |||||||||       ||||   |                          ||  ||||||   ||||||    |||  |   |||   | |||||||| ||||||| ||  |||     ||||    |||||||||  ||  ||||||  |    |||| |||||||||||     ||  | ||||||||   ||||||||||||||||      || |||||||||    ||||||||||||||| |         ||| |||||  |||||||||||||||   || ||| || ||||||||||     | ||||||||      ||||||||||      |  ||   || ||   ||          ||| |     |   ||||         |||||||||||||       | \n",
            "MSK-GKVCLAYSGGLDTSVI-L-AWLLDQGYEVVA-FMANVGQEE------DFDAAKEK-A-L----K-I-GACKF---V--CVDCREDFVK-D-I-LFPAVQVNA-VYEDVYLLGTSLARPVIAKAQIDVAKQ-EGCFAVS-H-GCTGKGN-DQIRFE-LS-FYALK-PDVKCITPWRM-PEFFERF-AG--RKD-----LLDY----AAQKGIPVAQTKAKPWSTDENQ-AHISYEAGILEDPDTTPPKDM-W-K-LIV-D-PMDAPDQP-Q-DLTIDFERGLPVKLTYTDNKTSKEVSVTKPLDVFLAASNLARANGVGRIDIVE-DRYINLKSRGCYEQAPLTVLRKAHVDLEGLTLDKEVR-QLRDSFV-TP-NYSRLIYNGS-----YFTPECEYIR-S-M-IQPSQNSVNGT-V-R-VR--LYK-GNV-II-L-GRS--T-K-T-EKLYDPTESSMDELTGFLPTDTTGFIAIQAIRIKKYGESKKTKGEE-LTL\n",
            "\n",
            "P0AD96\tP32352\t Score = 2.7600486278533936\n",
            "\n",
            "P0AD96\tP32352\n",
            "MNIKGKALLAGCIALAF-SNMALAEDI------KVAVVGAMSGPVAQ-Y-G-DQEFTGAEQAVADINA-K----GGIKGN-KLQIVKYDDACDPKQ-A-VAVAN--KVV--NDGIKYVIGHLCS-S-STQPASDIYEDEGIL-MITPAATAPELTARGYQLILRTTGLDSDQGPTAAKYI-LEK-VKPQRIAIVHDKQQYGEGLARAVQDGLKK--GNAN--VVFFDGITAGEKDFSTLVARLKKENIDFVYYGGYHPEMGQILRQARAAGLKTQFMGPEGVANVS-LSNI-A-G-ESA-EGLL--V-TKPK-NYDQVPANKPIVDAIKAKK-Q-DPSGAFVWTTYAALQSLQAGLNQSDDPAEIAKYLKANSVDTVMGPLTWDEKGDLKGFEFGVFDWHANGTATDA-K-\n",
            "||||||||||||||||  | |||||||      ||||||||||||||     ||||||||||||||||      |||||| ||||  |||||||||     |||  |              ||    ||         ||   ||||||||||||||||        |||||   |      |  |           |           ||||     ||      |||||||||||||               |                          |||||   |      | |   |          ||||  |||||||||||||   ||||| ||||||||||||  |||                                         ||||        \n",
            "MKFFPLLLLIGVVGYI-MN-VLFTTWLPTNYMFDPKTLNEICNSVISK-H-NAAEGLSTEDLLQDVRDA-LASHYGDEYINRYVK--EEWVFNNAGG-A--MGQMII--LH----------AS-V-SEY---------LI--LFGTAVGTEGHTGVHFA--------DDYFT---I----L-H-GT-----------Q-----------IAAL-PY--ATEA----EVYTPGMTHHLKK---------------G--------------------------YAKQYS--M-P-G-GS-FA--L-EL-A----QGWIP--CMLPFGFLDTFSST-LDLYTL-YRTVYLTARDMG--KNL-----------------------------------------LQNK-----K-F\n",
            "\n",
            "P0AD96\tQ08558\t Score = 3.8530030250549316\n",
            "\n",
            "P0AD96\tQ08558\n",
            "MNIKGK-ALLAGCIALAFSNMALAEDIKVAVVGAMSGPVAQYGDQEFTGAEQAVADINAKGGIKGNKLQIVK-YDDAC-DPKQAVA-VANKVVNDG-----IK-YV-I-G-H-LCSSSTQPASDIYEDEGILMITPAATAPELTARGYQLILRTTGLDSDQGPTAAKYILEKVKPQRIAIVHDKQQYGEGLARAVQDGLKKGNANVVFFDGITAGEKDFSTLVARLKKENIDFVYYGGYHPEMGQILR-QARAAGLKTQFMG-PEGV-ANVSLSNIAGES-A-E-G-L-L-VTKPKNYDQVPANK-PI-VDAIKAKKQ-DPSGAF--VWTTY-A-ALQSLQAGLNQS-D-DPAEI-A-KYLK----ANSVDTVMGPLTWDEKGDLKGFEF-GVFDW-HANGTATD------------A-K-\n",
            "||||||  |||||            |||||||||||  |||||||||||||||||||||||||||||||||| ||||| ||    |  ||||| ||     || |    |   ||||||||||||||||||||||| |||                      || |                     ||  |||||                           |||     ||||||||||  || ||  |||||||       |||  |||||||||||   |       |||||||||||||       |   ||| || |||    ||     |||||||||||     ||    | ||    ||||||    |||||||||||||   |    | ||||||                \n",
            "MSSRVCY-HINGP------------FFIIKLIDPKH--LNSLTFEDFVYIALLLHKANDIDSVLFTVLQSSGKYFSSGGKF----SA-VNKLN-DGDVTSEVEKV-S-KLV-SAISSPNIFVANAFAIHKKVLVCC-LNG----------------------PA-I---------------------GL--SASLV---------------------------ALC-----DIVYSQNDSV--FL-LFP-FSNLGFV-----A-EVGT-SVTLTQKLGINS-ANE-H-M-IFSTPVLFKELIGT-I--I--T---KNYQLT-NTETF--NE-K-V-LQDIKQNLEGLY-P--KS-V-LG-MKELLHSEMKQK----LIKAQAMETNGTL-P-F---WA-SGEPFKRFKQLQEGNRRH-K-L\n",
            "\n"
          ]
        },
        {
          "output_type": "stream",
          "name": "stderr",
          "text": [
            "\n"
          ]
        }
      ],
      "source": [
        "from plmalign.plmalign import plmalign_pipeline\n",
        "plmalign_pipeline('example/query.fasta', 'example/target.fasta')"
      ]
    },
    {
      "cell_type": "markdown",
      "metadata": {
        "id": "omKAKl8LdAmU"
      },
      "source": [
        "<h1>2. Advanced pipeline</h1>"
      ]
    },
    {
      "cell_type": "markdown",
      "metadata": {
        "id": "W_RSPknpdAmU"
      },
      "source": [
        "<H3>2.1 Generate embeddings</H3>"
      ]
    },
    {
      "cell_type": "code",
      "execution_count": null,
      "metadata": {
        "id": "ixiXHeUtdAmU",
        "outputId": "29199f33-9de8-4746-b0e0-c480183ea5ab"
      },
      "outputs": [
        {
          "name": "stderr",
          "output_type": "stream",
          "text": [
            "/home/lw/anaconda3/envs/plmblast/lib/python3.9/site-packages/tqdm/auto.py:21: TqdmWarning: IProgress not found. Please update jupyter and ipywidgets. See https://ipywidgets.readthedocs.io/en/stable/user_install.html\n",
            "  from .autonotebook import tqdm as notebook_tqdm\n"
          ]
        },
        {
          "name": "stdout",
          "output_type": "stream",
          "text": [
            "Transferred model to GPU\n",
            "Read example/query.fasta with 1 sequences\n",
            "Processing 1 of 1 batches (1 sequences)\n",
            "Transferred model to GPU\n",
            "Read example/target.fasta with 5 sequences\n",
            "Processing 1 of 1 batches (5 sequences)\n",
            "Using device: cuda:0\n",
            "##########################\n",
            "Loading cached model from: data/model/Rostlab/prot_t5_xl_uniref50/\n",
            "##########################\n"
          ]
        },
        {
          "name": "stderr",
          "output_type": "stream",
          "text": [
            "Some weights of the model checkpoint at data/model/Rostlab/prot_t5_xl_uniref50/ were not used when initializing T5EncoderModel: ['decoder.block.5.layer.2.layer_norm.weight', 'decoder.block.20.layer.0.SelfAttention.k.weight', 'decoder.block.15.layer.1.layer_norm.weight', 'decoder.block.1.layer.1.EncDecAttention.o.weight', 'decoder.block.16.layer.0.layer_norm.weight', 'decoder.block.18.layer.1.EncDecAttention.v.weight', 'decoder.block.17.layer.1.EncDecAttention.k.weight', 'decoder.block.23.layer.2.DenseReluDense.wi.weight', 'decoder.block.16.layer.0.SelfAttention.v.weight', 'decoder.block.18.layer.0.SelfAttention.q.weight', 'decoder.block.19.layer.0.SelfAttention.v.weight', 'decoder.block.12.layer.2.layer_norm.weight', 'decoder.block.3.layer.2.DenseReluDense.wo.weight', 'decoder.block.17.layer.0.layer_norm.weight', 'decoder.block.20.layer.2.DenseReluDense.wo.weight', 'decoder.block.12.layer.1.EncDecAttention.o.weight', 'decoder.block.18.layer.1.EncDecAttention.k.weight', 'decoder.block.14.layer.1.EncDecAttention.v.weight', 'decoder.block.9.layer.0.SelfAttention.q.weight', 'decoder.block.21.layer.1.EncDecAttention.v.weight', 'decoder.block.21.layer.1.EncDecAttention.o.weight', 'decoder.block.1.layer.2.DenseReluDense.wo.weight', 'decoder.block.0.layer.0.SelfAttention.o.weight', 'decoder.block.12.layer.0.SelfAttention.k.weight', 'decoder.block.20.layer.1.EncDecAttention.k.weight', 'decoder.block.1.layer.0.SelfAttention.q.weight', 'decoder.block.1.layer.1.EncDecAttention.k.weight', 'decoder.block.2.layer.1.EncDecAttention.v.weight', 'decoder.block.2.layer.2.DenseReluDense.wo.weight', 'decoder.block.11.layer.2.DenseReluDense.wi.weight', 'decoder.block.15.layer.1.EncDecAttention.v.weight', 'decoder.block.12.layer.2.DenseReluDense.wo.weight', 'decoder.block.18.layer.0.SelfAttention.o.weight', 'decoder.block.20.layer.0.layer_norm.weight', 'decoder.block.12.layer.1.EncDecAttention.k.weight', 'decoder.block.11.layer.2.DenseReluDense.wo.weight', 'decoder.block.17.layer.0.SelfAttention.v.weight', 'decoder.block.21.layer.1.EncDecAttention.k.weight', 'decoder.block.17.layer.2.DenseReluDense.wi.weight', 'decoder.block.6.layer.0.SelfAttention.k.weight', 'decoder.block.23.layer.0.SelfAttention.o.weight', 'decoder.embed_tokens.weight', 'decoder.block.8.layer.1.EncDecAttention.k.weight', 'decoder.block.22.layer.0.SelfAttention.q.weight', 'decoder.block.14.layer.0.SelfAttention.v.weight', 'decoder.block.21.layer.0.SelfAttention.k.weight', 'decoder.block.3.layer.1.EncDecAttention.v.weight', 'decoder.block.19.layer.1.EncDecAttention.k.weight', 'decoder.block.13.layer.2.DenseReluDense.wi.weight', 'decoder.block.8.layer.2.layer_norm.weight', 'decoder.block.5.layer.0.layer_norm.weight', 'decoder.block.10.layer.1.EncDecAttention.v.weight', 'decoder.block.17.layer.1.EncDecAttention.o.weight', 'decoder.block.6.layer.2.DenseReluDense.wi.weight', 'decoder.block.1.layer.0.layer_norm.weight', 'decoder.block.19.layer.1.layer_norm.weight', 'decoder.block.3.layer.0.SelfAttention.k.weight', 'decoder.block.10.layer.0.SelfAttention.k.weight', 'decoder.block.20.layer.2.layer_norm.weight', 'decoder.block.5.layer.1.EncDecAttention.q.weight', 'decoder.block.21.layer.2.layer_norm.weight', 'lm_head.weight', 'decoder.block.5.layer.1.EncDecAttention.k.weight', 'decoder.block.18.layer.2.DenseReluDense.wo.weight', 'decoder.block.11.layer.0.layer_norm.weight', 'decoder.block.12.layer.2.DenseReluDense.wi.weight', 'decoder.block.1.layer.2.layer_norm.weight', 'decoder.block.9.layer.2.DenseReluDense.wi.weight', 'decoder.block.1.layer.0.SelfAttention.o.weight', 'decoder.block.22.layer.2.layer_norm.weight', 'decoder.block.18.layer.0.SelfAttention.k.weight', 'decoder.block.15.layer.2.DenseReluDense.wo.weight', 'decoder.final_layer_norm.weight', 'decoder.block.14.layer.2.DenseReluDense.wi.weight', 'decoder.block.15.layer.1.EncDecAttention.o.weight', 'decoder.block.4.layer.0.layer_norm.weight', 'decoder.block.2.layer.0.SelfAttention.q.weight', 'decoder.block.4.layer.0.SelfAttention.v.weight', 'decoder.block.7.layer.2.DenseReluDense.wo.weight', 'decoder.block.13.layer.0.SelfAttention.o.weight', 'decoder.block.4.layer.0.SelfAttention.q.weight', 'decoder.block.8.layer.0.SelfAttention.k.weight', 'decoder.block.9.layer.2.DenseReluDense.wo.weight', 'decoder.block.4.layer.2.layer_norm.weight', 'decoder.block.13.layer.0.layer_norm.weight', 'decoder.block.6.layer.2.DenseReluDense.wo.weight', 'decoder.block.4.layer.1.layer_norm.weight', 'decoder.block.15.layer.0.SelfAttention.v.weight', 'decoder.block.13.layer.0.SelfAttention.k.weight', 'decoder.block.15.layer.0.SelfAttention.q.weight', 'decoder.block.21.layer.1.EncDecAttention.q.weight', 'decoder.block.12.layer.0.SelfAttention.q.weight', 'decoder.block.16.layer.2.DenseReluDense.wo.weight', 'decoder.block.16.layer.0.SelfAttention.o.weight', 'decoder.block.22.layer.1.EncDecAttention.k.weight', 'decoder.block.5.layer.2.DenseReluDense.wo.weight', 'decoder.block.21.layer.1.layer_norm.weight', 'decoder.block.7.layer.0.SelfAttention.v.weight', 'decoder.block.2.layer.1.EncDecAttention.o.weight', 'decoder.block.14.layer.2.DenseReluDense.wo.weight', 'decoder.block.2.layer.2.DenseReluDense.wi.weight', 'decoder.block.8.layer.0.SelfAttention.o.weight', 'decoder.block.14.layer.1.EncDecAttention.q.weight', 'decoder.block.9.layer.0.SelfAttention.k.weight', 'decoder.block.23.layer.1.EncDecAttention.k.weight', 'decoder.block.1.layer.1.EncDecAttention.q.weight', 'decoder.block.9.layer.1.EncDecAttention.v.weight', 'decoder.block.6.layer.0.layer_norm.weight', 'decoder.block.20.layer.0.SelfAttention.o.weight', 'decoder.block.10.layer.1.EncDecAttention.k.weight', 'decoder.block.6.layer.0.SelfAttention.v.weight', 'decoder.block.10.layer.1.EncDecAttention.q.weight', 'decoder.block.10.layer.0.SelfAttention.o.weight', 'decoder.block.16.layer.0.SelfAttention.k.weight', 'decoder.block.5.layer.1.EncDecAttention.o.weight', 'decoder.block.6.layer.0.SelfAttention.q.weight', 'decoder.block.22.layer.2.DenseReluDense.wi.weight', 'decoder.block.12.layer.1.layer_norm.weight', 'decoder.block.2.layer.0.SelfAttention.o.weight', 'decoder.block.4.layer.0.SelfAttention.o.weight', 'decoder.block.1.layer.1.EncDecAttention.v.weight', 'decoder.block.12.layer.0.layer_norm.weight', 'decoder.block.6.layer.1.layer_norm.weight', 'decoder.block.18.layer.1.EncDecAttention.o.weight', 'decoder.block.3.layer.0.SelfAttention.q.weight', 'decoder.block.21.layer.0.SelfAttention.v.weight', 'decoder.block.16.layer.2.layer_norm.weight', 'decoder.block.22.layer.0.layer_norm.weight', 'decoder.block.3.layer.0.layer_norm.weight', 'decoder.block.0.layer.0.SelfAttention.k.weight', 'decoder.block.11.layer.0.SelfAttention.q.weight', 'decoder.block.17.layer.1.EncDecAttention.v.weight', 'decoder.block.9.layer.1.EncDecAttention.o.weight', 'decoder.block.14.layer.0.SelfAttention.q.weight', 'decoder.block.11.layer.2.layer_norm.weight', 'decoder.block.9.layer.2.layer_norm.weight', 'decoder.block.20.layer.0.SelfAttention.q.weight', 'decoder.block.5.layer.1.EncDecAttention.v.weight', 'decoder.block.3.layer.1.EncDecAttention.q.weight', 'decoder.block.13.layer.1.EncDecAttention.v.weight', 'decoder.block.7.layer.2.DenseReluDense.wi.weight', 'decoder.block.4.layer.2.DenseReluDense.wo.weight', 'decoder.block.5.layer.0.SelfAttention.o.weight', 'decoder.block.23.layer.1.EncDecAttention.v.weight', 'decoder.block.11.layer.0.SelfAttention.v.weight', 'decoder.block.15.layer.0.layer_norm.weight', 'decoder.block.13.layer.1.layer_norm.weight', 'decoder.block.7.layer.0.layer_norm.weight', 'decoder.block.7.layer.0.SelfAttention.q.weight', 'decoder.block.13.layer.2.layer_norm.weight', 'decoder.block.7.layer.1.layer_norm.weight', 'decoder.block.11.layer.1.EncDecAttention.o.weight', 'decoder.block.14.layer.0.layer_norm.weight', 'decoder.block.0.layer.1.EncDecAttention.k.weight', 'decoder.block.11.layer.1.layer_norm.weight', 'decoder.block.16.layer.1.EncDecAttention.v.weight', 'decoder.block.9.layer.1.EncDecAttention.q.weight', 'decoder.block.14.layer.0.SelfAttention.k.weight', 'decoder.block.23.layer.1.EncDecAttention.q.weight', 'decoder.block.0.layer.1.EncDecAttention.v.weight', 'decoder.block.5.layer.0.SelfAttention.k.weight', 'decoder.block.20.layer.1.EncDecAttention.q.weight', 'decoder.block.0.layer.0.SelfAttention.v.weight', 'decoder.block.4.layer.1.EncDecAttention.o.weight', 'decoder.block.12.layer.0.SelfAttention.v.weight', 'decoder.block.15.layer.2.DenseReluDense.wi.weight', 'decoder.block.20.layer.1.layer_norm.weight', 'decoder.block.20.layer.1.EncDecAttention.o.weight', 'decoder.block.12.layer.1.EncDecAttention.q.weight', 'decoder.block.0.layer.2.DenseReluDense.wi.weight', 'decoder.block.20.layer.1.EncDecAttention.v.weight', 'decoder.block.13.layer.0.SelfAttention.v.weight', 'decoder.block.8.layer.0.layer_norm.weight', 'decoder.block.12.layer.0.SelfAttention.o.weight', 'decoder.block.18.layer.0.SelfAttention.v.weight', 'decoder.block.13.layer.2.DenseReluDense.wo.weight', 'decoder.block.4.layer.2.DenseReluDense.wi.weight', 'decoder.block.7.layer.1.EncDecAttention.v.weight', 'decoder.block.11.layer.1.EncDecAttention.k.weight', 'decoder.block.4.layer.0.SelfAttention.k.weight', 'decoder.block.19.layer.2.DenseReluDense.wi.weight', 'decoder.block.22.layer.1.layer_norm.weight', 'decoder.block.23.layer.0.SelfAttention.k.weight', 'decoder.block.14.layer.1.EncDecAttention.k.weight', 'decoder.block.17.layer.0.SelfAttention.k.weight', 'decoder.block.13.layer.0.SelfAttention.q.weight', 'decoder.block.19.layer.2.DenseReluDense.wo.weight', 'decoder.block.13.layer.1.EncDecAttention.q.weight', 'decoder.block.22.layer.0.SelfAttention.k.weight', 'decoder.block.15.layer.1.EncDecAttention.k.weight', 'decoder.block.19.layer.1.EncDecAttention.o.weight', 'decoder.block.23.layer.0.SelfAttention.v.weight', 'decoder.block.8.layer.0.SelfAttention.q.weight', 'decoder.block.22.layer.1.EncDecAttention.q.weight', 'decoder.block.23.layer.0.SelfAttention.q.weight', 'decoder.block.11.layer.0.SelfAttention.k.weight', 'decoder.block.19.layer.0.SelfAttention.k.weight', 'decoder.block.18.layer.2.DenseReluDense.wi.weight', 'decoder.block.15.layer.0.SelfAttention.o.weight', 'decoder.block.7.layer.1.EncDecAttention.o.weight', 'decoder.block.22.layer.1.EncDecAttention.o.weight', 'decoder.block.10.layer.2.DenseReluDense.wi.weight', 'decoder.block.2.layer.1.EncDecAttention.q.weight', 'decoder.block.18.layer.1.EncDecAttention.q.weight', 'decoder.block.16.layer.0.SelfAttention.q.weight', 'decoder.block.21.layer.2.DenseReluDense.wo.weight', 'decoder.block.11.layer.1.EncDecAttention.q.weight', 'decoder.block.10.layer.0.SelfAttention.v.weight', 'decoder.block.12.layer.1.EncDecAttention.v.weight', 'decoder.block.17.layer.0.SelfAttention.o.weight', 'decoder.block.17.layer.1.EncDecAttention.q.weight', 'decoder.block.0.layer.1.EncDecAttention.o.weight', 'decoder.block.5.layer.0.SelfAttention.q.weight', 'decoder.block.14.layer.1.layer_norm.weight', 'decoder.block.10.layer.1.EncDecAttention.o.weight', 'decoder.block.23.layer.0.layer_norm.weight', 'decoder.block.0.layer.2.DenseReluDense.wo.weight', 'decoder.block.9.layer.0.SelfAttention.v.weight', 'decoder.block.1.layer.0.SelfAttention.k.weight', 'decoder.block.9.layer.0.layer_norm.weight', 'decoder.block.11.layer.0.SelfAttention.o.weight', 'decoder.block.10.layer.2.DenseReluDense.wo.weight', 'decoder.block.7.layer.1.EncDecAttention.q.weight', 'decoder.block.7.layer.2.layer_norm.weight', 'decoder.block.19.layer.1.EncDecAttention.v.weight', 'decoder.block.2.layer.0.layer_norm.weight', 'decoder.block.17.layer.2.DenseReluDense.wo.weight', 'decoder.block.8.layer.1.EncDecAttention.v.weight', 'decoder.block.8.layer.1.layer_norm.weight', 'decoder.block.17.layer.2.layer_norm.weight', 'decoder.block.3.layer.0.SelfAttention.v.weight', 'decoder.block.0.layer.1.EncDecAttention.q.weight', 'decoder.block.9.layer.1.EncDecAttention.k.weight', 'decoder.block.8.layer.2.DenseReluDense.wo.weight', 'decoder.block.5.layer.1.layer_norm.weight', 'decoder.block.21.layer.0.SelfAttention.o.weight', 'decoder.block.13.layer.1.EncDecAttention.k.weight', 'decoder.block.0.layer.0.SelfAttention.relative_attention_bias.weight', 'decoder.block.1.layer.2.DenseReluDense.wi.weight', 'decoder.block.18.layer.2.layer_norm.weight', 'decoder.block.16.layer.1.EncDecAttention.k.weight', 'decoder.block.6.layer.1.EncDecAttention.q.weight', 'decoder.block.6.layer.1.EncDecAttention.v.weight', 'decoder.block.14.layer.2.layer_norm.weight', 'decoder.block.8.layer.1.EncDecAttention.q.weight', 'decoder.block.15.layer.0.SelfAttention.k.weight', 'decoder.block.0.layer.0.SelfAttention.q.weight', 'decoder.block.23.layer.1.layer_norm.weight', 'decoder.block.6.layer.1.EncDecAttention.k.weight', 'decoder.block.16.layer.1.layer_norm.weight', 'decoder.block.0.layer.1.layer_norm.weight', 'decoder.block.6.layer.1.EncDecAttention.o.weight', 'decoder.block.11.layer.1.EncDecAttention.v.weight', 'decoder.block.19.layer.0.layer_norm.weight', 'decoder.block.19.layer.2.layer_norm.weight', 'decoder.block.7.layer.1.EncDecAttention.k.weight', 'decoder.block.20.layer.2.DenseReluDense.wi.weight', 'decoder.block.23.layer.2.layer_norm.weight', 'decoder.block.4.layer.1.EncDecAttention.v.weight', 'decoder.block.8.layer.0.SelfAttention.v.weight', 'decoder.block.22.layer.2.DenseReluDense.wo.weight', 'decoder.block.19.layer.1.EncDecAttention.q.weight', 'decoder.block.17.layer.1.layer_norm.weight', 'decoder.block.6.layer.0.SelfAttention.o.weight', 'decoder.block.8.layer.1.EncDecAttention.o.weight', 'decoder.block.5.layer.0.SelfAttention.v.weight', 'decoder.block.10.layer.1.layer_norm.weight', 'decoder.block.16.layer.1.EncDecAttention.o.weight', 'decoder.block.3.layer.0.SelfAttention.o.weight', 'decoder.block.7.layer.0.SelfAttention.o.weight', 'decoder.block.2.layer.0.SelfAttention.k.weight', 'decoder.block.1.layer.0.SelfAttention.v.weight', 'decoder.block.17.layer.0.SelfAttention.q.weight', 'decoder.block.2.layer.0.SelfAttention.v.weight', 'decoder.block.22.layer.0.SelfAttention.v.weight', 'decoder.block.22.layer.0.SelfAttention.o.weight', 'decoder.block.6.layer.2.layer_norm.weight', 'decoder.block.21.layer.2.DenseReluDense.wi.weight', 'decoder.block.15.layer.2.layer_norm.weight', 'decoder.block.3.layer.2.layer_norm.weight', 'decoder.block.18.layer.0.layer_norm.weight', 'decoder.block.4.layer.1.EncDecAttention.k.weight', 'decoder.block.20.layer.0.SelfAttention.v.weight', 'decoder.block.2.layer.1.EncDecAttention.k.weight', 'decoder.block.2.layer.1.layer_norm.weight', 'decoder.block.14.layer.0.SelfAttention.o.weight', 'decoder.block.13.layer.1.EncDecAttention.o.weight', 'decoder.block.9.layer.0.SelfAttention.o.weight', 'decoder.block.16.layer.1.EncDecAttention.q.weight', 'decoder.block.8.layer.2.DenseReluDense.wi.weight', 'decoder.block.10.layer.2.layer_norm.weight', 'decoder.block.3.layer.1.layer_norm.weight', 'decoder.block.15.layer.1.EncDecAttention.q.weight', 'decoder.block.21.layer.0.SelfAttention.q.weight', 'decoder.block.19.layer.0.SelfAttention.q.weight', 'decoder.block.14.layer.1.EncDecAttention.o.weight', 'decoder.block.0.layer.0.layer_norm.weight', 'decoder.block.22.layer.1.EncDecAttention.v.weight', 'decoder.block.3.layer.1.EncDecAttention.k.weight', 'decoder.block.9.layer.1.layer_norm.weight', 'decoder.block.3.layer.2.DenseReluDense.wi.weight', 'decoder.block.7.layer.0.SelfAttention.k.weight', 'decoder.block.10.layer.0.layer_norm.weight', 'decoder.block.23.layer.1.EncDecAttention.o.weight', 'decoder.block.16.layer.2.DenseReluDense.wi.weight', 'decoder.block.18.layer.1.layer_norm.weight', 'decoder.block.23.layer.2.DenseReluDense.wo.weight', 'decoder.block.5.layer.2.DenseReluDense.wi.weight', 'decoder.block.3.layer.1.EncDecAttention.o.weight', 'decoder.block.10.layer.0.SelfAttention.q.weight', 'decoder.block.1.layer.1.layer_norm.weight', 'decoder.block.0.layer.2.layer_norm.weight', 'decoder.block.2.layer.2.layer_norm.weight', 'decoder.block.4.layer.1.EncDecAttention.q.weight', 'decoder.block.21.layer.0.layer_norm.weight', 'decoder.block.19.layer.0.SelfAttention.o.weight']\n",
            "- This IS expected if you are initializing T5EncoderModel from the checkpoint of a model trained on another task or with another architecture (e.g. initializing a BertForSequenceClassification model from a BertForPreTraining model).\n",
            "- This IS NOT expected if you are initializing T5EncoderModel from the checkpoint of a model that you expect to be exactly identical (initializing a BertForSequenceClassification model from a BertForSequenceClassification model).\n"
          ]
        },
        {
          "name": "stdout",
          "output_type": "stream",
          "text": [
            "########################################\n",
            "Total number of sequences: 1\n",
            "Average sequence length: 367.0\n",
            "Number of sequences >1022: 0\n"
          ]
        },
        {
          "name": "stderr",
          "output_type": "stream",
          "text": [
            "100%|██████████| 1/1 [00:00<00:00,  6.66it/s]"
          ]
        },
        {
          "name": "stdout",
          "output_type": "stream",
          "text": [
            "Embedded protein P0AD96 with length 367 to emb. of shape: torch.Size([367, 1024])\n",
            "\n",
            "############# STATS #############\n",
            "Total number of embeddings: 1\n",
            "Using device: cuda:0\n",
            "##########################\n",
            "Loading cached model from: data/model/Rostlab/prot_t5_xl_uniref50/\n",
            "##########################\n"
          ]
        },
        {
          "name": "stderr",
          "output_type": "stream",
          "text": [
            "\n",
            "Some weights of the model checkpoint at data/model/Rostlab/prot_t5_xl_uniref50/ were not used when initializing T5EncoderModel: ['decoder.block.5.layer.2.layer_norm.weight', 'decoder.block.20.layer.0.SelfAttention.k.weight', 'decoder.block.15.layer.1.layer_norm.weight', 'decoder.block.1.layer.1.EncDecAttention.o.weight', 'decoder.block.16.layer.0.layer_norm.weight', 'decoder.block.18.layer.1.EncDecAttention.v.weight', 'decoder.block.17.layer.1.EncDecAttention.k.weight', 'decoder.block.23.layer.2.DenseReluDense.wi.weight', 'decoder.block.16.layer.0.SelfAttention.v.weight', 'decoder.block.18.layer.0.SelfAttention.q.weight', 'decoder.block.19.layer.0.SelfAttention.v.weight', 'decoder.block.12.layer.2.layer_norm.weight', 'decoder.block.3.layer.2.DenseReluDense.wo.weight', 'decoder.block.17.layer.0.layer_norm.weight', 'decoder.block.20.layer.2.DenseReluDense.wo.weight', 'decoder.block.12.layer.1.EncDecAttention.o.weight', 'decoder.block.18.layer.1.EncDecAttention.k.weight', 'decoder.block.14.layer.1.EncDecAttention.v.weight', 'decoder.block.9.layer.0.SelfAttention.q.weight', 'decoder.block.21.layer.1.EncDecAttention.v.weight', 'decoder.block.21.layer.1.EncDecAttention.o.weight', 'decoder.block.1.layer.2.DenseReluDense.wo.weight', 'decoder.block.0.layer.0.SelfAttention.o.weight', 'decoder.block.12.layer.0.SelfAttention.k.weight', 'decoder.block.20.layer.1.EncDecAttention.k.weight', 'decoder.block.1.layer.0.SelfAttention.q.weight', 'decoder.block.1.layer.1.EncDecAttention.k.weight', 'decoder.block.2.layer.1.EncDecAttention.v.weight', 'decoder.block.2.layer.2.DenseReluDense.wo.weight', 'decoder.block.11.layer.2.DenseReluDense.wi.weight', 'decoder.block.15.layer.1.EncDecAttention.v.weight', 'decoder.block.12.layer.2.DenseReluDense.wo.weight', 'decoder.block.18.layer.0.SelfAttention.o.weight', 'decoder.block.20.layer.0.layer_norm.weight', 'decoder.block.12.layer.1.EncDecAttention.k.weight', 'decoder.block.11.layer.2.DenseReluDense.wo.weight', 'decoder.block.17.layer.0.SelfAttention.v.weight', 'decoder.block.21.layer.1.EncDecAttention.k.weight', 'decoder.block.17.layer.2.DenseReluDense.wi.weight', 'decoder.block.6.layer.0.SelfAttention.k.weight', 'decoder.block.23.layer.0.SelfAttention.o.weight', 'decoder.embed_tokens.weight', 'decoder.block.8.layer.1.EncDecAttention.k.weight', 'decoder.block.22.layer.0.SelfAttention.q.weight', 'decoder.block.14.layer.0.SelfAttention.v.weight', 'decoder.block.21.layer.0.SelfAttention.k.weight', 'decoder.block.3.layer.1.EncDecAttention.v.weight', 'decoder.block.19.layer.1.EncDecAttention.k.weight', 'decoder.block.13.layer.2.DenseReluDense.wi.weight', 'decoder.block.8.layer.2.layer_norm.weight', 'decoder.block.5.layer.0.layer_norm.weight', 'decoder.block.10.layer.1.EncDecAttention.v.weight', 'decoder.block.17.layer.1.EncDecAttention.o.weight', 'decoder.block.6.layer.2.DenseReluDense.wi.weight', 'decoder.block.1.layer.0.layer_norm.weight', 'decoder.block.19.layer.1.layer_norm.weight', 'decoder.block.3.layer.0.SelfAttention.k.weight', 'decoder.block.10.layer.0.SelfAttention.k.weight', 'decoder.block.20.layer.2.layer_norm.weight', 'decoder.block.5.layer.1.EncDecAttention.q.weight', 'decoder.block.21.layer.2.layer_norm.weight', 'lm_head.weight', 'decoder.block.5.layer.1.EncDecAttention.k.weight', 'decoder.block.18.layer.2.DenseReluDense.wo.weight', 'decoder.block.11.layer.0.layer_norm.weight', 'decoder.block.12.layer.2.DenseReluDense.wi.weight', 'decoder.block.1.layer.2.layer_norm.weight', 'decoder.block.9.layer.2.DenseReluDense.wi.weight', 'decoder.block.1.layer.0.SelfAttention.o.weight', 'decoder.block.22.layer.2.layer_norm.weight', 'decoder.block.18.layer.0.SelfAttention.k.weight', 'decoder.block.15.layer.2.DenseReluDense.wo.weight', 'decoder.final_layer_norm.weight', 'decoder.block.14.layer.2.DenseReluDense.wi.weight', 'decoder.block.15.layer.1.EncDecAttention.o.weight', 'decoder.block.4.layer.0.layer_norm.weight', 'decoder.block.2.layer.0.SelfAttention.q.weight', 'decoder.block.4.layer.0.SelfAttention.v.weight', 'decoder.block.7.layer.2.DenseReluDense.wo.weight', 'decoder.block.13.layer.0.SelfAttention.o.weight', 'decoder.block.4.layer.0.SelfAttention.q.weight', 'decoder.block.8.layer.0.SelfAttention.k.weight', 'decoder.block.9.layer.2.DenseReluDense.wo.weight', 'decoder.block.4.layer.2.layer_norm.weight', 'decoder.block.13.layer.0.layer_norm.weight', 'decoder.block.6.layer.2.DenseReluDense.wo.weight', 'decoder.block.4.layer.1.layer_norm.weight', 'decoder.block.15.layer.0.SelfAttention.v.weight', 'decoder.block.13.layer.0.SelfAttention.k.weight', 'decoder.block.15.layer.0.SelfAttention.q.weight', 'decoder.block.21.layer.1.EncDecAttention.q.weight', 'decoder.block.12.layer.0.SelfAttention.q.weight', 'decoder.block.16.layer.2.DenseReluDense.wo.weight', 'decoder.block.16.layer.0.SelfAttention.o.weight', 'decoder.block.22.layer.1.EncDecAttention.k.weight', 'decoder.block.5.layer.2.DenseReluDense.wo.weight', 'decoder.block.21.layer.1.layer_norm.weight', 'decoder.block.7.layer.0.SelfAttention.v.weight', 'decoder.block.2.layer.1.EncDecAttention.o.weight', 'decoder.block.14.layer.2.DenseReluDense.wo.weight', 'decoder.block.2.layer.2.DenseReluDense.wi.weight', 'decoder.block.8.layer.0.SelfAttention.o.weight', 'decoder.block.14.layer.1.EncDecAttention.q.weight', 'decoder.block.9.layer.0.SelfAttention.k.weight', 'decoder.block.23.layer.1.EncDecAttention.k.weight', 'decoder.block.1.layer.1.EncDecAttention.q.weight', 'decoder.block.9.layer.1.EncDecAttention.v.weight', 'decoder.block.6.layer.0.layer_norm.weight', 'decoder.block.20.layer.0.SelfAttention.o.weight', 'decoder.block.10.layer.1.EncDecAttention.k.weight', 'decoder.block.6.layer.0.SelfAttention.v.weight', 'decoder.block.10.layer.1.EncDecAttention.q.weight', 'decoder.block.10.layer.0.SelfAttention.o.weight', 'decoder.block.16.layer.0.SelfAttention.k.weight', 'decoder.block.5.layer.1.EncDecAttention.o.weight', 'decoder.block.6.layer.0.SelfAttention.q.weight', 'decoder.block.22.layer.2.DenseReluDense.wi.weight', 'decoder.block.12.layer.1.layer_norm.weight', 'decoder.block.2.layer.0.SelfAttention.o.weight', 'decoder.block.4.layer.0.SelfAttention.o.weight', 'decoder.block.1.layer.1.EncDecAttention.v.weight', 'decoder.block.12.layer.0.layer_norm.weight', 'decoder.block.6.layer.1.layer_norm.weight', 'decoder.block.18.layer.1.EncDecAttention.o.weight', 'decoder.block.3.layer.0.SelfAttention.q.weight', 'decoder.block.21.layer.0.SelfAttention.v.weight', 'decoder.block.16.layer.2.layer_norm.weight', 'decoder.block.22.layer.0.layer_norm.weight', 'decoder.block.3.layer.0.layer_norm.weight', 'decoder.block.0.layer.0.SelfAttention.k.weight', 'decoder.block.11.layer.0.SelfAttention.q.weight', 'decoder.block.17.layer.1.EncDecAttention.v.weight', 'decoder.block.9.layer.1.EncDecAttention.o.weight', 'decoder.block.14.layer.0.SelfAttention.q.weight', 'decoder.block.11.layer.2.layer_norm.weight', 'decoder.block.9.layer.2.layer_norm.weight', 'decoder.block.20.layer.0.SelfAttention.q.weight', 'decoder.block.5.layer.1.EncDecAttention.v.weight', 'decoder.block.3.layer.1.EncDecAttention.q.weight', 'decoder.block.13.layer.1.EncDecAttention.v.weight', 'decoder.block.7.layer.2.DenseReluDense.wi.weight', 'decoder.block.4.layer.2.DenseReluDense.wo.weight', 'decoder.block.5.layer.0.SelfAttention.o.weight', 'decoder.block.23.layer.1.EncDecAttention.v.weight', 'decoder.block.11.layer.0.SelfAttention.v.weight', 'decoder.block.15.layer.0.layer_norm.weight', 'decoder.block.13.layer.1.layer_norm.weight', 'decoder.block.7.layer.0.layer_norm.weight', 'decoder.block.7.layer.0.SelfAttention.q.weight', 'decoder.block.13.layer.2.layer_norm.weight', 'decoder.block.7.layer.1.layer_norm.weight', 'decoder.block.11.layer.1.EncDecAttention.o.weight', 'decoder.block.14.layer.0.layer_norm.weight', 'decoder.block.0.layer.1.EncDecAttention.k.weight', 'decoder.block.11.layer.1.layer_norm.weight', 'decoder.block.16.layer.1.EncDecAttention.v.weight', 'decoder.block.9.layer.1.EncDecAttention.q.weight', 'decoder.block.14.layer.0.SelfAttention.k.weight', 'decoder.block.23.layer.1.EncDecAttention.q.weight', 'decoder.block.0.layer.1.EncDecAttention.v.weight', 'decoder.block.5.layer.0.SelfAttention.k.weight', 'decoder.block.20.layer.1.EncDecAttention.q.weight', 'decoder.block.0.layer.0.SelfAttention.v.weight', 'decoder.block.4.layer.1.EncDecAttention.o.weight', 'decoder.block.12.layer.0.SelfAttention.v.weight', 'decoder.block.15.layer.2.DenseReluDense.wi.weight', 'decoder.block.20.layer.1.layer_norm.weight', 'decoder.block.20.layer.1.EncDecAttention.o.weight', 'decoder.block.12.layer.1.EncDecAttention.q.weight', 'decoder.block.0.layer.2.DenseReluDense.wi.weight', 'decoder.block.20.layer.1.EncDecAttention.v.weight', 'decoder.block.13.layer.0.SelfAttention.v.weight', 'decoder.block.8.layer.0.layer_norm.weight', 'decoder.block.12.layer.0.SelfAttention.o.weight', 'decoder.block.18.layer.0.SelfAttention.v.weight', 'decoder.block.13.layer.2.DenseReluDense.wo.weight', 'decoder.block.4.layer.2.DenseReluDense.wi.weight', 'decoder.block.7.layer.1.EncDecAttention.v.weight', 'decoder.block.11.layer.1.EncDecAttention.k.weight', 'decoder.block.4.layer.0.SelfAttention.k.weight', 'decoder.block.19.layer.2.DenseReluDense.wi.weight', 'decoder.block.22.layer.1.layer_norm.weight', 'decoder.block.23.layer.0.SelfAttention.k.weight', 'decoder.block.14.layer.1.EncDecAttention.k.weight', 'decoder.block.17.layer.0.SelfAttention.k.weight', 'decoder.block.13.layer.0.SelfAttention.q.weight', 'decoder.block.19.layer.2.DenseReluDense.wo.weight', 'decoder.block.13.layer.1.EncDecAttention.q.weight', 'decoder.block.22.layer.0.SelfAttention.k.weight', 'decoder.block.15.layer.1.EncDecAttention.k.weight', 'decoder.block.19.layer.1.EncDecAttention.o.weight', 'decoder.block.23.layer.0.SelfAttention.v.weight', 'decoder.block.8.layer.0.SelfAttention.q.weight', 'decoder.block.22.layer.1.EncDecAttention.q.weight', 'decoder.block.23.layer.0.SelfAttention.q.weight', 'decoder.block.11.layer.0.SelfAttention.k.weight', 'decoder.block.19.layer.0.SelfAttention.k.weight', 'decoder.block.18.layer.2.DenseReluDense.wi.weight', 'decoder.block.15.layer.0.SelfAttention.o.weight', 'decoder.block.7.layer.1.EncDecAttention.o.weight', 'decoder.block.22.layer.1.EncDecAttention.o.weight', 'decoder.block.10.layer.2.DenseReluDense.wi.weight', 'decoder.block.2.layer.1.EncDecAttention.q.weight', 'decoder.block.18.layer.1.EncDecAttention.q.weight', 'decoder.block.16.layer.0.SelfAttention.q.weight', 'decoder.block.21.layer.2.DenseReluDense.wo.weight', 'decoder.block.11.layer.1.EncDecAttention.q.weight', 'decoder.block.10.layer.0.SelfAttention.v.weight', 'decoder.block.12.layer.1.EncDecAttention.v.weight', 'decoder.block.17.layer.0.SelfAttention.o.weight', 'decoder.block.17.layer.1.EncDecAttention.q.weight', 'decoder.block.0.layer.1.EncDecAttention.o.weight', 'decoder.block.5.layer.0.SelfAttention.q.weight', 'decoder.block.14.layer.1.layer_norm.weight', 'decoder.block.10.layer.1.EncDecAttention.o.weight', 'decoder.block.23.layer.0.layer_norm.weight', 'decoder.block.0.layer.2.DenseReluDense.wo.weight', 'decoder.block.9.layer.0.SelfAttention.v.weight', 'decoder.block.1.layer.0.SelfAttention.k.weight', 'decoder.block.9.layer.0.layer_norm.weight', 'decoder.block.11.layer.0.SelfAttention.o.weight', 'decoder.block.10.layer.2.DenseReluDense.wo.weight', 'decoder.block.7.layer.1.EncDecAttention.q.weight', 'decoder.block.7.layer.2.layer_norm.weight', 'decoder.block.19.layer.1.EncDecAttention.v.weight', 'decoder.block.2.layer.0.layer_norm.weight', 'decoder.block.17.layer.2.DenseReluDense.wo.weight', 'decoder.block.8.layer.1.EncDecAttention.v.weight', 'decoder.block.8.layer.1.layer_norm.weight', 'decoder.block.17.layer.2.layer_norm.weight', 'decoder.block.3.layer.0.SelfAttention.v.weight', 'decoder.block.0.layer.1.EncDecAttention.q.weight', 'decoder.block.9.layer.1.EncDecAttention.k.weight', 'decoder.block.8.layer.2.DenseReluDense.wo.weight', 'decoder.block.5.layer.1.layer_norm.weight', 'decoder.block.21.layer.0.SelfAttention.o.weight', 'decoder.block.13.layer.1.EncDecAttention.k.weight', 'decoder.block.0.layer.0.SelfAttention.relative_attention_bias.weight', 'decoder.block.1.layer.2.DenseReluDense.wi.weight', 'decoder.block.18.layer.2.layer_norm.weight', 'decoder.block.16.layer.1.EncDecAttention.k.weight', 'decoder.block.6.layer.1.EncDecAttention.q.weight', 'decoder.block.6.layer.1.EncDecAttention.v.weight', 'decoder.block.14.layer.2.layer_norm.weight', 'decoder.block.8.layer.1.EncDecAttention.q.weight', 'decoder.block.15.layer.0.SelfAttention.k.weight', 'decoder.block.0.layer.0.SelfAttention.q.weight', 'decoder.block.23.layer.1.layer_norm.weight', 'decoder.block.6.layer.1.EncDecAttention.k.weight', 'decoder.block.16.layer.1.layer_norm.weight', 'decoder.block.0.layer.1.layer_norm.weight', 'decoder.block.6.layer.1.EncDecAttention.o.weight', 'decoder.block.11.layer.1.EncDecAttention.v.weight', 'decoder.block.19.layer.0.layer_norm.weight', 'decoder.block.19.layer.2.layer_norm.weight', 'decoder.block.7.layer.1.EncDecAttention.k.weight', 'decoder.block.20.layer.2.DenseReluDense.wi.weight', 'decoder.block.23.layer.2.layer_norm.weight', 'decoder.block.4.layer.1.EncDecAttention.v.weight', 'decoder.block.8.layer.0.SelfAttention.v.weight', 'decoder.block.22.layer.2.DenseReluDense.wo.weight', 'decoder.block.19.layer.1.EncDecAttention.q.weight', 'decoder.block.17.layer.1.layer_norm.weight', 'decoder.block.6.layer.0.SelfAttention.o.weight', 'decoder.block.8.layer.1.EncDecAttention.o.weight', 'decoder.block.5.layer.0.SelfAttention.v.weight', 'decoder.block.10.layer.1.layer_norm.weight', 'decoder.block.16.layer.1.EncDecAttention.o.weight', 'decoder.block.3.layer.0.SelfAttention.o.weight', 'decoder.block.7.layer.0.SelfAttention.o.weight', 'decoder.block.2.layer.0.SelfAttention.k.weight', 'decoder.block.1.layer.0.SelfAttention.v.weight', 'decoder.block.17.layer.0.SelfAttention.q.weight', 'decoder.block.2.layer.0.SelfAttention.v.weight', 'decoder.block.22.layer.0.SelfAttention.v.weight', 'decoder.block.22.layer.0.SelfAttention.o.weight', 'decoder.block.6.layer.2.layer_norm.weight', 'decoder.block.21.layer.2.DenseReluDense.wi.weight', 'decoder.block.15.layer.2.layer_norm.weight', 'decoder.block.3.layer.2.layer_norm.weight', 'decoder.block.18.layer.0.layer_norm.weight', 'decoder.block.4.layer.1.EncDecAttention.k.weight', 'decoder.block.20.layer.0.SelfAttention.v.weight', 'decoder.block.2.layer.1.EncDecAttention.k.weight', 'decoder.block.2.layer.1.layer_norm.weight', 'decoder.block.14.layer.0.SelfAttention.o.weight', 'decoder.block.13.layer.1.EncDecAttention.o.weight', 'decoder.block.9.layer.0.SelfAttention.o.weight', 'decoder.block.16.layer.1.EncDecAttention.q.weight', 'decoder.block.8.layer.2.DenseReluDense.wi.weight', 'decoder.block.10.layer.2.layer_norm.weight', 'decoder.block.3.layer.1.layer_norm.weight', 'decoder.block.15.layer.1.EncDecAttention.q.weight', 'decoder.block.21.layer.0.SelfAttention.q.weight', 'decoder.block.19.layer.0.SelfAttention.q.weight', 'decoder.block.14.layer.1.EncDecAttention.o.weight', 'decoder.block.0.layer.0.layer_norm.weight', 'decoder.block.22.layer.1.EncDecAttention.v.weight', 'decoder.block.3.layer.1.EncDecAttention.k.weight', 'decoder.block.9.layer.1.layer_norm.weight', 'decoder.block.3.layer.2.DenseReluDense.wi.weight', 'decoder.block.7.layer.0.SelfAttention.k.weight', 'decoder.block.10.layer.0.layer_norm.weight', 'decoder.block.23.layer.1.EncDecAttention.o.weight', 'decoder.block.16.layer.2.DenseReluDense.wi.weight', 'decoder.block.18.layer.1.layer_norm.weight', 'decoder.block.23.layer.2.DenseReluDense.wo.weight', 'decoder.block.5.layer.2.DenseReluDense.wi.weight', 'decoder.block.3.layer.1.EncDecAttention.o.weight', 'decoder.block.10.layer.0.SelfAttention.q.weight', 'decoder.block.1.layer.1.layer_norm.weight', 'decoder.block.0.layer.2.layer_norm.weight', 'decoder.block.2.layer.2.layer_norm.weight', 'decoder.block.4.layer.1.EncDecAttention.q.weight', 'decoder.block.21.layer.0.layer_norm.weight', 'decoder.block.19.layer.0.SelfAttention.o.weight']\n",
            "- This IS expected if you are initializing T5EncoderModel from the checkpoint of a model trained on another task or with another architecture (e.g. initializing a BertForSequenceClassification model from a BertForPreTraining model).\n",
            "- This IS NOT expected if you are initializing T5EncoderModel from the checkpoint of a model that you expect to be exactly identical (initializing a BertForSequenceClassification model from a BertForSequenceClassification model).\n"
          ]
        },
        {
          "name": "stdout",
          "output_type": "stream",
          "text": [
            "########################################\n",
            "Total number of sequences: 5\n",
            "Average sequence length: 330.6\n",
            "Number of sequences >1022: 0\n"
          ]
        },
        {
          "name": "stderr",
          "output_type": "stream",
          "text": [
            "100%|██████████| 5/5 [00:00<00:00,  6.25it/s]"
          ]
        },
        {
          "name": "stdout",
          "output_type": "stream",
          "text": [
            "Embedded protein P22768 with length 420 to emb. of shape: torch.Size([420, 1024])\n",
            "\n",
            "############# STATS #############\n",
            "Total number of embeddings: 5\n"
          ]
        },
        {
          "name": "stderr",
          "output_type": "stream",
          "text": [
            "\n"
          ]
        },
        {
          "data": {
            "text/plain": [
              "{'P22768': tensor([[ 1.0952e-01, -1.2699e-01, -2.0552e-03,  ...,  1.4663e-01,\n",
              "           4.0439e-03,  3.1096e-01],\n",
              "         [ 1.3217e-02, -7.4873e-02,  1.4688e-01,  ..., -4.2054e-02,\n",
              "           1.7233e-01,  2.2892e-01],\n",
              "         [ 2.2815e-02, -3.6027e-04,  3.7234e-01,  ..., -9.3900e-02,\n",
              "           3.4445e-01,  2.5699e-01],\n",
              "         ...,\n",
              "         [ 1.8210e-02,  2.4128e-01, -6.3118e-02,  ..., -9.1909e-02,\n",
              "          -1.4618e-01,  1.3018e-01],\n",
              "         [-1.5932e-01,  5.9697e-03,  2.2184e-01,  ..., -1.0124e-01,\n",
              "          -8.5778e-02,  1.5755e-01],\n",
              "         [-1.2461e-01,  1.0683e-01,  2.3168e-01,  ..., -5.1994e-02,\n",
              "          -2.4646e-01,  1.0271e-01]]),\n",
              " 'P15104': tensor([[ 0.1637, -0.0415, -0.1123,  ...,  0.2878,  0.0504,  0.2132],\n",
              "         [-0.1606, -0.0283, -0.0152,  ...,  0.0510,  0.0083,  0.0291],\n",
              "         [ 0.0362, -0.0620,  0.0210,  ...,  0.1527, -0.0543, -0.0997],\n",
              "         ...,\n",
              "         [-0.1089,  0.0438, -0.0948,  ..., -0.0839, -0.2940, -0.0812],\n",
              "         [-0.1475, -0.0790,  0.2458,  ...,  0.0888, -0.0871,  0.0155],\n",
              "         [-0.0893, -0.1124,  0.2047,  ...,  0.1090, -0.1072, -0.1058]]),\n",
              " 'P0AD96': tensor([[ 0.3111, -0.2256,  0.1226,  ...,  0.3333,  0.1312,  0.1531],\n",
              "         [-0.0529, -0.3374, -0.1064,  ...,  0.0810,  0.1521, -0.0892],\n",
              "         [ 0.1239, -0.2281, -0.0163,  ...,  0.0874,  0.0871, -0.0484],\n",
              "         ...,\n",
              "         [-0.0816,  0.2548,  0.1626,  ..., -0.3220, -0.1163,  0.0878],\n",
              "         [ 0.0176,  0.0244,  0.2292,  ..., -0.4748,  0.2818,  0.0640],\n",
              "         [-0.2985,  0.0234,  0.3752,  ..., -0.0291, -0.1254,  0.0304]]),\n",
              " 'Q08558': tensor([[ 0.0345, -0.2206, -0.1156,  ...,  0.2851, -0.2104,  0.0296],\n",
              "         [-0.0528, -0.2803, -0.1445,  ...,  0.1793,  0.1279, -0.1698],\n",
              "         [ 0.1507, -0.1111, -0.0232,  ...,  0.2253,  0.1175,  0.0301],\n",
              "         ...,\n",
              "         [ 0.0748,  0.2072,  0.2441,  ..., -0.3070,  0.2388,  0.0909],\n",
              "         [ 0.0454, -0.2285,  0.3697,  ...,  0.1807,  0.1054,  0.3457],\n",
              "         [ 0.1429,  0.0378,  0.3530,  ...,  0.1295, -0.0282, -0.1934]]),\n",
              " 'P32352': tensor([[ 0.0019, -0.1072,  0.0948,  ...,  0.2669,  0.0700,  0.0878],\n",
              "         [-0.0430, -0.1377, -0.0445,  ...,  0.2862,  0.2189,  0.1036],\n",
              "         [-0.0920, -0.0768,  0.1670,  ...,  0.1693,  0.2020,  0.1768],\n",
              "         ...,\n",
              "         [-0.1058, -0.0454,  0.4161,  ...,  0.0941,  0.1071,  0.0601],\n",
              "         [-0.0138, -0.0586,  0.4658,  ...,  0.2445,  0.1655,  0.1687],\n",
              "         [-0.0515, -0.0392,  0.1812,  ...,  0.0864,  0.1049,  0.0759]])}"
            ]
          },
          "execution_count": 1,
          "metadata": {},
          "output_type": "execute_result"
        }
      ],
      "source": [
        "from plmalign.embedding_generate import esm_embedding_generate, prottrans_embedding_generate\n",
        "\n",
        "query_fasta = 'example/query.fasta'\n",
        "target_fasta = 'example/target.fasta'\n",
        "\n",
        "#ESM-1b Embedding\n",
        "query_embedding_path = 'example/query_esm_embedding/'\n",
        "target_embedding_path = 'example/target_esm_embedding/'\n",
        "\n",
        "esm_embedding_generate(query_fasta, query_embedding_path)\n",
        "esm_embedding_generate(target_fasta, target_embedding_path)\n",
        "\n",
        "#ProtT5 Embedding\n",
        "query_embedding_path = 'example/query_t5_embedding/'\n",
        "target_embedding_path = 'example/target_t5_embedding/'\n",
        "\n",
        "prottrans_embedding_generate(query_fasta, query_embedding_path)\n",
        "prottrans_embedding_generate(target_fasta, target_embedding_path)"
      ]
    },
    {
      "cell_type": "code",
      "source": [
        "from plmalign.embedding_generate import esm_embedding_generate, prottrans_embedding_generate\n",
        "\n",
        "!echo -e \">ELMI000792\\nQGRLDDFFKV\" > example/ELMI000792.fasta\n",
        "!echo -e \">DPOD3_HUMAN\\nMADQLYLENIDEFVTDQNKIVTYKWLSYTLGVHVNQAKQMLYDYVERKRKENSGAQLHVTYLVSGSLIQNGHSCHKVAVVREDKLEAVKSKLAVTASIHVYSIQKAMLKDSGPLFNTDYDILKSNLQNCSKFSAIQCAAAVPRAPAESSSSSKKFEQSHLHMSSETQANNELTTNGHGPPASKQVSQQPKGIMGMFASKAAAKTQETNKETKTEAKEVTNASAAGNKAPGKGNMMSNFFGKAAMNKFKVNLDSEQAVKEEKIVEQPTVSVTEPKLATPAGLKKSSKKAEPVKVLQKEKKRGKRVALSDDETKETENMRKKRRRIKLPESDSSEDEVFPDSPGAYEAESPSPPPPPSPPLEPVPKTEPEPPSVKSSSGENKRKRKRVLKSKTYLDGEGCIVTEKVYESESCTDSEEELNMKTSSVHRPPAMTVKKEPREERKGPKKGTAALGKANRQVSITGFFQRK\" > example/target_proteins.fasta\n",
        "!echo -e \">DNMT1_HUMAN\\nMPARTAPARVPTLAVPAISLPDDVRRRLKDLERDSLTEKECVKEKLNLLHEFLQTEIKNQLCDLETKLRKEELSEEGYLAKVKSLLNKDLSLENGAHAYNREVNGRLENGNQARSEARRVGMADANSPPKPLSKPRTPRRSKSDGEAKPEPSPSPRITRKSTRQTTITSHFAKGPAKRKPQEESERAKSDESIKEEDKDQDEKRRRVTSRERVARPLPAEEPERAKSGTRTEKEEERDEKEEKRLRSQTKEPTPKQKLKEEPDREARAGVQADEDEDGDEKDEKKHRSQPKDLAAKRRPEEKEPEKVNPQISDEKDEDEKEEKRRKTTPKEPTEKKMARAKTVMNSKTHPPKCIQCGQYLDDPDLKYGQHPPDAVDEPQMLTNEKLSIFDANESGFESYEALPQHKLTCFSVYCKHGHLCPIDTGLIEKNIELFFSGSAKPIYDDDPSLEGGVNGKNLGPINEWWITGFDGGEKALIGFSTSFAEYILMDPSPEYAPIFGLMQEKIYISKIVVEFLQSNSDSTYEDLINKIETTVPPSGLNLNRFTEDSLLRHAQFVVEQVESYDEAGDSDEQPIFLTPCMRDLIKLAGVTLGQRRAQARRQTIRHSTREKDRGPTKATTTKLVYQIFDTFFAEQIEKDDREDKENAFKRRRCGVCEVCQQPECGKCKACKDMVKFGGSGRSKQACQERRCPNMAMKEADDDEEVDDNIPEMPSPKKMHQGKKKKQNKNRISWVGEAVKTDGKKSYYKKVCIDAETLEVGDCVSVIPDDSSKPLYLARVTALWEDSSNGQMFHAHWFCAGTDTVLGATSDPLELFLVDECEDMQLSYIHSKVKVIYKAPSENWAMEGGMDPESLLEGDDGKTYFYQLWYDQDYARFESPPKTQPTEDNKFKFCVSCARLAEMRQKEIPRVLEQLEDLDSRVLYYSATKNGILYRVGDGVYLPPEAFTFNIKLSSPVKRPRKEPVDEDLYPEHYRKYSDYIKGSNLDAPEPYRIGRIKEIFCPKKSNGRPNETDIKIRVNKFYRPENTHKSTPASYHADINLLYWSDEEAVVDFKAVQGRCTVEYGEDLPECVQVYSMGGPNRFYFLEAYNAKSKSFEDPPNHARSPGNKGKGKGKGKGKPKSQACEPSEPEIEIKLPKLRTLDVFSGCGGLSEGFHQAGISDTLWAIEMWDPAAQAFRLNNPGSTVFTEDCNILLKLVMAGETTNSRGQRLPQKGDVEMLCGGPPCQGFSGMNRFNSRTYSKFKNSLVVSFLSYCDYYRPRFFLLENVRNFVSFKRSMVLKLTLRCLVRMGYQCTFGVLQAGQYGVAQTRRRAIILAAAPGEKLPLFPEPLHVFAPRACQLSVVVDDKKFVSNITRLSSGPFRTITVRDTMSDLPEVRNGASALEISYNGEPQSWFQRQLRGAQYQPILRDHICKDMSALVAARMRHIPLAPGSDWRDLPNIEVRLSDGTMARKLRYTHHDRKNGRSSSGALRGVCSCVEAGKACDPAARQFNTLIPWCLPHTGNRHNHWAGLYGRLEWDGFFSTTVTNPEPMGKQGRVLHPEQHRVVSVRECARSQGFPDTYRLFGNILDKHRQVGNAVPPPLAKAIGLEIKLCMLAKARESASAKIKEEEAAKD\" >> example/target_proteins.fasta\n",
        "!echo -e \">CYC_HUMAN\\nMGDVEKGKKIFIMKCSQCHTVEKGGKHKTGPNLHGLFGRKTGQAPGYSYTAANKNKGIIWGEDTLMEYLENPKKYIPGTKMIFVGIKKKEERADLIAYLKKATNE\" >> example/target_proteins.fasta\n",
        "!echo -e \">PRR7_HUMAN\\nMVMSQGTYTFLTCFAGFWLIWGLIVLLCCFCSFLRRRLKRRQEERLREQNLRALELEPLELEGSLAGSPPGLAPPQPPPHRSRLEAPAHAHSHPHVHVHPLLHHGPAQPHAHAHPHPHHHALPHPPPTHLSVPPRPWSYPRQAESDMSKPPCYEEAVLMAEPPPPYSEVLTDTRGLYRKIVTPFLSRRDSAEKQEQPPPSYKPLFLDRGYTSALHLPSAPRPAPPCPALCLQADRGRRVFPSWTDSELSSREPLEHGAWRLPVSIPLFGRTTAV\" >> example/target_proteins.fasta\n",
        "!echo -e \">PRR7_HUMAN\\nMVMSQGTYTFLTCFAGFWLIWGLIVLLCCFCSFLRRRLKRRQEERLREQNLRALELEPLELEGSLAGSPPGLAPPQPPPHRSRLEAPAHAHSHPHVHVHPLLHHGPAQPHAHAHPHPHHHALPHPPPTHLSVPPRPWSYPRQAESDMSKPPCYEEAVLMAEPPPPYSEVLTDTRGLYRKIVTPFLSRRDSAEKQEQPPPSYKPLFLDRGYTSALHLPSAPRPAPPCPALCLQADRGRRVFPSWTDSELSSREPLEHGAWRLPVSIPLFGRTTAV\" >> example/PRR7_HUMAN.fasta\n",
        "\n",
        "\n",
        "query_fasta = 'example/ELMI000792.fasta'\n",
        "target_fasta = 'example/PRR7_HUMAN.fasta'\n",
        "\n",
        "#ESM-1b Embedding\n",
        "query_embedding_path = 'example/query_esm_embedding_motif/'\n",
        "target_embedding_path = 'example/target_esm_embedding_protein/'\n",
        "\n",
        "#esm_embedding_generate(query_fasta, query_embedding_path)\n",
        "#esm_embedding_generate(target_fasta, target_embedding_path)\n",
        "\n",
        "#ProtT5 Embedding\n",
        "query_embedding_path = 'example/query_t5_embedding_motif/'\n",
        "target_embedding_path = 'example/target_t5_embedding_protein/'\n",
        "\n",
        "prottrans_embedding_generate(query_fasta, query_embedding_path)\n",
        "prottrans_embedding_generate(target_fasta, target_embedding_path)"
      ],
      "metadata": {
        "colab": {
          "base_uri": "https://localhost:8080/"
        },
        "id": "Cb-XqZkLmf6m",
        "outputId": "3d28c945-2893-4f79-d4a0-bcb0d5f5ff01"
      },
      "execution_count": 119,
      "outputs": [
        {
          "output_type": "stream",
          "name": "stdout",
          "text": [
            "Using device: cpu\n",
            "##########################\n",
            "Loading cached model from: Rostlab/prot_t5_xl_uniref50\n",
            "##########################\n",
            "########################################\n",
            "Total number of sequences: 1\n",
            "Average sequence length: 10.0\n",
            "Number of sequences >1022: 0\n"
          ]
        },
        {
          "output_type": "stream",
          "name": "stderr",
          "text": [
            "100%|██████████| 1/1 [00:01<00:00,  1.42s/it]"
          ]
        },
        {
          "output_type": "stream",
          "name": "stdout",
          "text": [
            "Embedded protein ELMI000792 with length 10 to emb. of shape: torch.Size([10, 1024])\n",
            "\n",
            "############# STATS #############\n",
            "Total number of embeddings: 1\n",
            "Using device: cpu\n",
            "##########################\n",
            "Loading cached model from: Rostlab/prot_t5_xl_uniref50\n",
            "##########################\n"
          ]
        },
        {
          "output_type": "stream",
          "name": "stderr",
          "text": [
            "\n"
          ]
        },
        {
          "output_type": "stream",
          "name": "stdout",
          "text": [
            "########################################\n",
            "Total number of sequences: 1\n",
            "Average sequence length: 274.0\n",
            "Number of sequences >1022: 0\n"
          ]
        },
        {
          "output_type": "stream",
          "name": "stderr",
          "text": [
            "100%|██████████| 1/1 [00:17<00:00, 17.35s/it]"
          ]
        },
        {
          "output_type": "stream",
          "name": "stdout",
          "text": [
            "Embedded protein PRR7_HUMAN with length 274 to emb. of shape: torch.Size([274, 1024])\n",
            "\n",
            "############# STATS #############\n",
            "Total number of embeddings: 1\n"
          ]
        },
        {
          "output_type": "stream",
          "name": "stderr",
          "text": [
            "\n"
          ]
        },
        {
          "output_type": "execute_result",
          "data": {
            "text/plain": [
              "{'PRR7_HUMAN': tensor([[ 0.2468, -0.2218,  0.0797,  ..., -0.1897, -0.0323,  0.2473],\n",
              "         [ 0.1135, -0.2082,  0.0815,  ..., -0.0913, -0.0862,  0.1893],\n",
              "         [-0.0305, -0.1597,  0.2839,  ..., -0.1539,  0.1915,  0.1916],\n",
              "         ...,\n",
              "         [ 0.2949, -0.0689,  0.3173,  ..., -0.1405,  0.3229, -0.3011],\n",
              "         [-0.1025, -0.0387,  0.1212,  ..., -0.0632,  0.2047, -0.0046],\n",
              "         [-0.0231, -0.0603,  0.1702,  ...,  0.0545, -0.1105, -0.5523]])}"
            ]
          },
          "metadata": {},
          "execution_count": 119
        }
      ]
    },
    {
      "cell_type": "code",
      "source": [
        "?plmalign_pipeline"
      ],
      "metadata": {
        "id": "sGyt0XdFoy2O"
      },
      "execution_count": 15,
      "outputs": []
    },
    {
      "cell_type": "code",
      "source": [
        "from plmalign.plmalign import *\n",
        "query_fasta = 'example/ELMI000175.fasta'\n",
        "target_fasta = 'example/BTK_HUMAN.fasta'\n",
        "\n",
        "!echo -e \">ELMI000175\\nVAVVRTPPKSPSSAK\" > example/ELMI000175.fasta\n",
        "prottrans_embedding_generate(query_fasta, query_embedding_path)\n",
        "\n",
        "_, query_sequences = read_fasta(query_fasta)\n",
        "_, target_sequences = read_fasta(target_fasta)\n",
        "output_path = 'example/output_motif_sh3/'\n",
        "\n",
        "\n",
        "query_embedding_path = 'example/query_t5_embedding_motif/'\n",
        "target_embedding_path = 'example/target_t5_embedding_protein/'\n",
        "\n",
        "\n",
        "if (query_embedding_path == None):\n",
        "    query_embeddings = prottrans_embedding_generate(query_fasta)\n",
        "else:\n",
        "    query_embeddings = embedding_load(query_fasta, query_embedding_path)\n",
        "\n",
        "if (target_embedding_path == None):\n",
        "    target_embeddings = prottrans_embedding_generate(target_fasta)\n",
        "else:\n",
        "    target_embeddings = embedding_load(target_fasta, target_embedding_path)\n",
        "\n",
        "for single_query in tqdm(query_sequences, desc=\"Query\"):\n",
        "  print(single_query)\n",
        "  for single_target in target_sequences:\n",
        "    print('\\n')\n",
        "    print(single_target)\n",
        "    score, results = pairwise_align(query_embeddings[single_query], target_embeddings[single_target], query_sequences[single_query], target_sequences[single_target], 'local', method = 'plmalign')\n",
        "    print(results, score)"
      ],
      "metadata": {
        "colab": {
          "base_uri": "https://localhost:8080/"
        },
        "id": "AH0ds1vFpidh",
        "outputId": "a5086619-1709-4f84-f3b0-a3f65b6a116d"
      },
      "execution_count": 65,
      "outputs": [
        {
          "output_type": "stream",
          "name": "stdout",
          "text": [
            "Using device: cpu\n",
            "##########################\n",
            "Loading cached model from: Rostlab/prot_t5_xl_uniref50\n",
            "##########################\n",
            "########################################\n",
            "Total number of sequences: 1\n",
            "Average sequence length: 15.0\n",
            "Number of sequences >1022: 0\n"
          ]
        },
        {
          "output_type": "stream",
          "name": "stderr",
          "text": [
            "100%|██████████| 1/1 [00:02<00:00,  2.21s/it]"
          ]
        },
        {
          "output_type": "stream",
          "name": "stdout",
          "text": [
            "Embedded protein ELMI000175 with length 15 to emb. of shape: torch.Size([15, 1024])\n",
            "\n",
            "############# STATS #############\n",
            "Total number of embeddings: 1\n"
          ]
        },
        {
          "output_type": "stream",
          "name": "stderr",
          "text": [
            "\n",
            "Query: 100%|██████████| 1/1 [00:00<00:00, 33.76it/s]"
          ]
        },
        {
          "output_type": "stream",
          "name": "stdout",
          "text": [
            "ELMI000175\n",
            "\n",
            "\n",
            "BTK_HUMAN\n",
            "V---A-VVRTPPK-SPSSAK\n",
            "|     ||||||| ||||||\n",
            "PEED-QILKKPLPPEPAAAP 3.1357319355010986\n"
          ]
        },
        {
          "output_type": "stream",
          "name": "stderr",
          "text": [
            "\n"
          ]
        }
      ]
    },
    {
      "cell_type": "markdown",
      "source": [
        "ELMI000792 vs DPOD3 alignment with clustalo: https://www.uniprot.org/align/clustalo-R20240408-085430-0847-85470417-p1m/overview\n",
        "https://www.ebi.ac.uk/jdispatcher/msa/clustalo/summary?jobId=clustalo-I20240408-090159-0187-1814302-p1m\n",
        "\n",
        "\n",
        "Distribution of plmalign scores in Figure 5:\n",
        "https://static-content.springer.com/esm/art%3A10.1038%2Fs41467-024-46808-5/MediaObjects/41467_2024_46808_MOESM1_ESM.pdf\n",
        "\n",
        "This is the only one that can align it: https://toolkit.tuebingen.mpg.de/tools/msaprobs - but not 100% right"
      ],
      "metadata": {
        "id": "fSQP1Z7kuW_A"
      }
    },
    {
      "cell_type": "code",
      "source": [
        "from plmalign.plmalign import *\n",
        "query_fasta = 'example/ELMI000175.fasta'\n",
        "target_fasta = 'example/PRR7_HUMAN.fasta'\n",
        "\n",
        "!echo -e \">ELMI000175\\nRTPPKSP\" > example/ELMI000175.fasta\n",
        "prottrans_embedding_generate(query_fasta, query_embedding_path)\n",
        "\n",
        "_, query_sequences = read_fasta(query_fasta)\n",
        "_, target_sequences = read_fasta(target_fasta)\n",
        "output_path = 'example/output_motif_sh3/'\n",
        "\n",
        "\n",
        "query_embedding_path = 'example/query_t5_embedding_motif/'\n",
        "target_embedding_path = 'example/target_t5_embedding_protein/'\n",
        "\n",
        "query_embeddings = embedding_load(query_fasta, query_embedding_path)\n",
        "target_embeddings = embedding_load(target_fasta, target_embedding_path)\n",
        "\n",
        "for single_query in tqdm(query_sequences, desc=\"Query\"):\n",
        "  print(single_query)\n",
        "  for single_target in target_sequences:\n",
        "    print('\\n')\n",
        "    print(single_target)\n",
        "    score, results = pairwise_align(query_embeddings[single_query], target_embeddings[single_target], query_sequences[single_query], target_sequences[single_target], method = 'plmalign', mode='local')\n",
        "    print(results, score)"
      ],
      "metadata": {
        "colab": {
          "base_uri": "https://localhost:8080/"
        },
        "id": "wgwnsBFiz0vd",
        "outputId": "bdafab73-b991-42b7-d63c-32ec58dab8b6"
      },
      "execution_count": 323,
      "outputs": [
        {
          "output_type": "stream",
          "name": "stdout",
          "text": [
            "Using device: cpu\n",
            "##########################\n",
            "Loading cached model from: Rostlab/prot_t5_xl_uniref50\n",
            "##########################\n",
            "########################################\n",
            "Total number of sequences: 1\n",
            "Average sequence length: 7.0\n",
            "Number of sequences >1022: 0\n"
          ]
        },
        {
          "output_type": "stream",
          "name": "stderr",
          "text": [
            "100%|██████████| 1/1 [00:01<00:00,  1.31s/it]\n"
          ]
        },
        {
          "output_type": "stream",
          "name": "stdout",
          "text": [
            "Embedded protein ELMI000175 with length 7 to emb. of shape: torch.Size([7, 1024])\n",
            "\n",
            "############# STATS #############\n",
            "Total number of embeddings: 1\n"
          ]
        },
        {
          "output_type": "stream",
          "name": "stderr",
          "text": [
            "Query: 100%|██████████| 1/1 [00:00<00:00, 77.85it/s]"
          ]
        },
        {
          "output_type": "stream",
          "name": "stdout",
          "text": [
            "ELMI000175\n",
            "\n",
            "\n",
            "PRR7_HUMAN\n",
            "R--T-PPKSP\n",
            "|    |||||\n",
            "PGL-APPQPP 5.2125654220581055\n"
          ]
        },
        {
          "output_type": "stream",
          "name": "stderr",
          "text": [
            "\n"
          ]
        }
      ]
    },
    {
      "cell_type": "code",
      "source": [
        "extr = plmalign()\n",
        "extr.MODE = 'local'\n",
        "print(single_query)\n",
        "single_query_btk = 'ELMI000175'\n",
        "single_target_btk = 'BTK_HUMAN'\n",
        "query_embeddings_btk = embedding_load('example/ELMI000175.fasta', 'example/query_t5_embedding_motif/')\n",
        "target_embeddings_btk = embedding_load('example/BTK_HUMAN.fasta', 'example/target_t5_embedding_protein/')\n",
        "results_btk = extr.embedding_to_span(query_embeddings_btk[single_query_btk], target_embeddings_btk[single_target_btk], result_mode='all')"
      ],
      "metadata": {
        "colab": {
          "base_uri": "https://localhost:8080/"
        },
        "id": "9XFYtZb2I6U3",
        "outputId": "59ab50f6-12f7-4329-ef0a-2593e651219e"
      },
      "execution_count": 275,
      "outputs": [
        {
          "output_type": "stream",
          "name": "stdout",
          "text": [
            "ELMI000175\n"
          ]
        }
      ]
    },
    {
      "cell_type": "code",
      "source": [
        "start_btk = 50\n",
        "end_btk = 300\n",
        "\n",
        "fig = sns.heatmap(results_btk[1][(start_btk-1):end_btk,:].T, vmin=-3, vmax=15)\n",
        "# change the ratio of the figure\n",
        "fig.figure.set_size_inches(20, 3)\n",
        "# add x axis ticks from 180 to 211 and make them turn 90 degrees\n",
        "fig.set_xticks(range(0, end_btk-start_btk, 10))\n",
        "fig.set_xticklabels(range(start_btk, end_btk, 10), rotation=90)\n",
        "plt.show()"
      ],
      "metadata": {
        "colab": {
          "base_uri": "https://localhost:8080/",
          "height": 309
        },
        "id": "WGQOF50iJkjf",
        "outputId": "11c2081a-291b-4ef9-e458-e92509164ee2"
      },
      "execution_count": 276,
      "outputs": [
        {
          "output_type": "display_data",
          "data": {
            "text/plain": [
              "<Figure size 2000x300 with 2 Axes>"
            ],
            "image/png": "[encoded data removed]"
          },
          "metadata": {}
        }
      ]
    },
    {
      "cell_type": "code",
      "source": [
        "import torch\n",
        "# loop through the target embedding with a sliding window, and make the alignment against every window with length=10\n",
        "print(query_embeddings_btk[single_query_btk].shape)\n",
        "scores_btk = [\n",
        "    float(round(extr.embedding_to_span(query_embeddings_btk[single_query_btk], target_embeddings_btk[single_target_btk][i:i+8, :])['score'], 2))\n",
        "    for i in range(target_embeddings_btk[single_target_btk].shape[0])\n",
        "]\n",
        "\n",
        "# Reverse the entire target_embeddings_btk array for single_target_btk first\n",
        "reversed_target_embeddings = torch.flip(target_embeddings_btk[single_target_btk], dims=[0])\n",
        "\n",
        "# Now calculate scores using the reversed embeddings\n",
        "scores_back_btk = [\n",
        "    float(round(extr.embedding_to_span(query_embeddings_btk[single_query_btk], reversed_target_embeddings[i:i+8, :])['score'], 2))\n",
        "    for i in range(reversed_target_embeddings.shape[0] - 7)  # Ensure no out-of-bounds error\n",
        "]\n",
        "# reverse the scores back\n",
        "scores_back_btk = scores_back_btk[::-1]\n",
        "\n",
        "sns.scatterplot(x=range(len(scores_btk)), y=scores_btk)\n",
        "# add line to connect the dots\n",
        "plt.plot(range(len(scores_btk)), scores_btk)\n",
        "plt.show()\n",
        "\n",
        "sns.scatterplot(x=range(len(scores_back_btk)), y=scores_back_btk)\n",
        "# add line to connect the dots\n",
        "plt.plot(range(len(scores_back_btk)), scores_back_btk)\n",
        "plt.show()"
      ],
      "metadata": {
        "id": "n87AH2-GZvD3",
        "outputId": "cf672b6b-4f8a-4f6e-def2-ba949e4e54d8",
        "colab": {
          "base_uri": "https://localhost:8080/",
          "height": 934
        }
      },
      "execution_count": 277,
      "outputs": [
        {
          "output_type": "stream",
          "name": "stdout",
          "text": [
            "torch.Size([7, 1024])\n"
          ]
        },
        {
          "output_type": "stream",
          "name": "stderr",
          "text": [
            "<ipython-input-277-8e06f658abdc>:5: FutureWarning: Calling float on a single element Series is deprecated and will raise a TypeError in the future. Use float(ser.iloc[0]) instead\n",
            "  float(round(extr.embedding_to_span(query_embeddings_btk[single_query_btk], target_embeddings_btk[single_target_btk][i:i+8, :])['score'], 2))\n",
            "<ipython-input-277-8e06f658abdc>:14: FutureWarning: Calling float on a single element Series is deprecated and will raise a TypeError in the future. Use float(ser.iloc[0]) instead\n",
            "  float(round(extr.embedding_to_span(query_embeddings_btk[single_query_btk], reversed_target_embeddings[i:i+8, :])['score'], 2))\n"
          ]
        },
        {
          "output_type": "display_data",
          "data": {
            "text/plain": [
              "<Figure size 640x480 with 1 Axes>"
            ],
            "image/png": "[encoded data removed]"
          },
          "metadata": {}
        },
        {
          "output_type": "display_data",
          "data": {
            "text/plain": [
              "<Figure size 640x480 with 1 Axes>"
            ],
            "image/png": "[encoded data removed]"
          },
          "metadata": {}
        }
      ]
    },
    {
      "cell_type": "code",
      "source": [
        "from plmalign.plmalign import *\n",
        "query_fasta = 'example/ELMI000175.fasta'\n",
        "target_fasta = 'example/PRR7_HUMAN.fasta'\n",
        "_, query_sequences = read_fasta(query_fasta)\n",
        "_, target_sequences = read_fasta(target_fasta)\n",
        "output_path = 'example/output_motif_sh3/'\n",
        "\n",
        "query_embedding_path = 'example/query_t5_embedding_motif/'\n",
        "target_embedding_path = 'example/target_t5_embedding_protein/'\n",
        "\n",
        "query_embeddings = embedding_load(query_fasta, query_embedding_path)\n",
        "target_embeddings = embedding_load(target_fasta, target_embedding_path)\n",
        "\n",
        "for single_query in tqdm(query_sequences, desc=\"Query\"):\n",
        "  print(single_query)\n",
        "  for single_target in target_sequences:\n",
        "    print('\\n')\n",
        "    print(single_query)\n",
        "    print(single_target)\n",
        "    score, results = pairwise_align(query_embeddings[single_query], target_embeddings[single_target], query_sequences[single_query], target_sequences[single_target], method = 'plmalign', mode='local')\n",
        "    print(results, score)"
      ],
      "metadata": {
        "id": "CIAJCnLFOjfV",
        "outputId": "471f4081-a233-4980-ed1c-1f1360028a53",
        "colab": {
          "base_uri": "https://localhost:8080/"
        }
      },
      "execution_count": 178,
      "outputs": [
        {
          "output_type": "stream",
          "name": "stderr",
          "text": [
            "Query: 100%|██████████| 1/1 [00:00<00:00, 95.38it/s]"
          ]
        },
        {
          "output_type": "stream",
          "name": "stdout",
          "text": [
            "ELMI000175\n",
            "\n",
            "\n",
            "ELMI000175\n",
            "PRR7_HUMAN\n",
            "V------A-V-VRTPPKSPSSAK\n",
            "|           |||||||||||\n",
            "EHGAWRL-P-V-SIPLFGRTTAV 4.207658290863037\n"
          ]
        },
        {
          "output_type": "stream",
          "name": "stderr",
          "text": [
            "\n"
          ]
        }
      ]
    },
    {
      "cell_type": "code",
      "source": [
        "extr = plmalign()\n",
        "extr.MODE = 'local'\n",
        "print(single_query)\n",
        "results = extr.embedding_to_span(query_embeddings[single_query], target_embeddings[single_target], result_mode='all')"
      ],
      "metadata": {
        "id": "ylHcjdcIO8oN",
        "outputId": "7cb8fbb8-1e64-47ae-980f-37525a5ecb34",
        "colab": {
          "base_uri": "https://localhost:8080/"
        }
      },
      "execution_count": 346,
      "outputs": [
        {
          "output_type": "stream",
          "name": "stdout",
          "text": [
            "ELMI000175\n"
          ]
        }
      ]
    },
    {
      "cell_type": "code",
      "source": [
        "print(f'Query: {single_query}', f'Target: {single_target}')\n",
        "start = 1\n",
        "end = target_embeddings[single_target].shape[0]\n",
        "\n",
        "# change the ratio of the figure\n",
        "fig = sns.heatmap(results[1][(start-1):end,:].T, vmin=-3, vmax=15)\n",
        "fig.figure.set_size_inches(20, 3)\n",
        "\n",
        "# add x axis ticks from 180 to 211 and make them turn 90 degrees\n",
        "fig.set_xticks(range(0, end-start, 10))\n",
        "fig.set_xticklabels(range(start, end, 10), rotation=90)\n",
        "\n",
        "plt.show()"
      ],
      "metadata": {
        "id": "ZEnCX-dfO_AH",
        "outputId": "2a1acb28-9177-4c65-a830-8069c96008ab",
        "colab": {
          "base_uri": "https://localhost:8080/",
          "height": 326
        }
      },
      "execution_count": 347,
      "outputs": [
        {
          "output_type": "stream",
          "name": "stdout",
          "text": [
            "Query: ELMI000175 Target: PRR7_HUMAN\n"
          ]
        },
        {
          "output_type": "display_data",
          "data": {
            "text/plain": [
              "<Figure size 2000x300 with 2 Axes>"
            ],
            "image/png": "[encoded data removed]"
          },
          "metadata": {}
        }
      ]
    },
    {
      "cell_type": "code",
      "source": [
        "# loop through the target embedding with a sliding window, and make the alignment against every window with length=10\n",
        "seq1 = query_sequences[single_query]\n",
        "prr7_seq = 'MVMSQGTYTFLTCFAGFWLIWGLIVLLCCFCSFLRRRLKRRQEERLREQNLRALELEPLELEGSLAGSPPGLAPPQPPPHRSRLEAPAHAHSHPHVHVHPLLHHGPAQPHAHAHPHPHHHALPHPPPTHLSVPPRPWSYPRQAESDMSKPPCYEEAVLMAEPPPPYSEVLTDTRGLYRKIVTPFLSRRDSAEKQEQPPPSYKPLFLDRGYTSALHLPSAPRPAPPCPALCLQADRGRRVFPSWTDSELSSREPLEHGAWRLPVSIPLFGRTTAV'\n",
        "\n",
        "scores = []\n",
        "scores_long = []\n",
        "print(target_embeddings[single_target].shape[0])\n",
        "for i in range(0, target_embeddings[single_target].shape[0] - len(seq1) + 1):\n",
        "  seq2 = prr7_seq[i:i+len(seq1)]\n",
        "\n",
        "  results = extr.embedding_to_span(query_embeddings[single_query], target_embeddings[single_target][i:i+len(seq1), :],\n",
        "                                   result_mode='all')\n",
        "  row = results[0]\n",
        "\n",
        "  score = float(round(row['score'].item(), 2))\n",
        "  scores.append(score)\n",
        "\n",
        "  if score > 6:\n",
        "    aln = draw_alignment(row.indices.to_list()[0], seq1, seq2, output='str')\n",
        "    query_len = len(aln.split('\\n')[0].replace('-', ''))\n",
        "    if query_len > (len(seq1) - 2):\n",
        "      print(aln, query_len, i+1, '\\n')\n",
        "      scores_long.append(score)\n",
        "    else:\n",
        "      scores_long.append(None)\n",
        "  else:\n",
        "    scores_long.append(None)\n",
        "\n",
        "\n",
        "\n",
        "plt.plot(range(len(scores)), scores)\n",
        "sns.scatterplot(x=range(len(scores)), y=scores)\n",
        "sns.scatterplot(x=range(len(scores_long)), y=scores_long, color='red', zorder=3)\n",
        "# add line to connect the dots"
      ],
      "metadata": {
        "id": "UmIEPic3TMrl",
        "outputId": "53086097-d981-4e1d-cec6-385d7ff63455",
        "colab": {
          "base_uri": "https://localhost:8080/",
          "height": 882
        }
      },
      "execution_count": 328,
      "outputs": [
        {
          "output_type": "stream",
          "name": "stdout",
          "text": [
            "274\n",
            "TPPKSP\n",
            "| ||||\n",
            "P-GLAP 6 70 \n",
            "\n",
            "RTPPKSP\n",
            "| |||||\n",
            "G-LAPPQ 7 71 \n",
            "\n",
            "RTPPKSP\n",
            "|||||||\n",
            "LAPPQPP 7 72 \n",
            "\n",
            "R-TPPKS\n",
            "| |||||\n",
            "APPQPPP 6 73 \n",
            "\n",
            "R--TP-PKS\n",
            "|      ||\n",
            "PPP--P-YS 6 162 \n",
            "\n",
            "TPPK---SP\n",
            "| |    ||\n",
            "F-G-RTTAV 6 268 \n",
            "\n"
          ]
        },
        {
          "output_type": "execute_result",
          "data": {
            "text/plain": [
              "<Axes: >"
            ]
          },
          "metadata": {},
          "execution_count": 328
        },
        {
          "output_type": "display_data",
          "data": {
            "text/plain": [
              "<Figure size 640x480 with 1 Axes>"
            ],
            "image/png": "[encoded data removed]"
          },
          "metadata": {}
        }
      ]
    },
    {
      "cell_type": "code",
      "source": [
        "# loop through the target embedding with a sliding window, and make the alignment against every window with length=10\n",
        "seq1 = query_sequences[single_query]\n",
        "btk_seq = 'MAAVILESIFLKRSQQKKKTSPLNFKKRLFLLTVHKLSYYEYDFERGRRGSKKGSIDVEKITCVETVVPEKNPPPERQIPRRGEESSEMEQISIIERFPYPFQVVYDEGPLYVFSPTEELRKRWIHQLKNVIRYNSDLVQKYHPCFWIDGQYLCCSQTAKNAMGCQILENRNGSLKPGSSHRKTKKPLPPTPEEDQILKKPLPPEPAAAPVSTSELKKVVALYDYMPMNANDLQLRKGDEYFILEESNLPWWRARDKNGQEGYIPSNYVTEAEDSIEMYEWYSKHMTRSQAEQLLKQEGKEGGFIVRDSSKAGKYTVSVFAKSTGDPQGVIRHYVVCSTPQSQYYLAEKHLFSTIPELINYHQHNSAGLISRLKYPVSQQNKNAPSTAGLGYGSWEIDPKDLTFLKELGTGQFGVVKYGKWRGQYDVAIKMIKEGSMSEDEFIEEAKVMMNLSHEKLVQLYGVCTKQRPIFIITEYMANGCLLNYLREMRHRFQTQQLLEMCKDVCEAMEYLESKQFLHRDLAARNCLVNDQGVVKVSDFGLSRYVLDDEYTSSVGSKFPVRWSPPEVLMYSKFSSKSDIWAFGVLMWEIYSLGKMPYERFTNSETAEHIAQGLRLYRPHLASEKVYTIMYSCWHEKADERPTFKILLSNILDVMDEES'\n",
        "\n",
        "scores_btk = []\n",
        "scores_long_btk = []\n",
        "for i in range(0, target_embeddings_btk[single_target_btk].shape[0] - len(seq1) + 1):\n",
        "  seq2 = btk_seq[i:i+len(seq1)]\n",
        "\n",
        "  results = extr.embedding_to_span(query_embeddings_btk[single_query_btk], target_embeddings_btk[single_target_btk][i:i+len(seq1), :],\n",
        "                                   result_mode='all')\n",
        "  row = results[0]\n",
        "\n",
        "  score = float(round(row['score'].item(), 2))\n",
        "  scores_btk.append(score)\n",
        "\n",
        "  if score > 6:\n",
        "    aln = draw_alignment(row.indices.to_list()[0], seq1, seq2, output='str')\n",
        "    query_len = len(aln.split('\\n')[0].replace('-', ''))\n",
        "    if query_len > (len(seq1) - 2):\n",
        "      print(aln, query_len, i+1, '\\n')\n",
        "      scores_long_btk.append(score)\n",
        "    else:\n",
        "      scores_long_btk.append(None)\n",
        "  else:\n",
        "    scores_long_btk.append(None)\n",
        "\n",
        "\n",
        "plt.plot(range(len(scores_btk)), scores_btk)\n",
        "sns.scatterplot(x=range(len(scores_btk)), y=scores_btk)\n",
        "sns.scatterplot(x=range(len(scores_long_btk)), y=scores_long_btk, color='red', zorder=3)"
      ],
      "metadata": {
        "id": "LUgSC51gizfN",
        "outputId": "ec8e5496-ef88-4f7b-981e-fdedfacf801f",
        "colab": {
          "base_uri": "https://localhost:8080/",
          "height": 934
        }
      },
      "execution_count": 330,
      "outputs": [
        {
          "output_type": "stream",
          "name": "stdout",
          "text": [
            "TPP-KSP-\n",
            "|   |   \n",
            "K--TK--K 6 183 \n",
            "\n",
            "RTP-PKS-P\n",
            "|   |    \n",
            "T--KK--P- 7 184 \n",
            "\n",
            "RT-PPK-SP-\n",
            "|  |    | \n",
            "K-KP--L-PP 7 185 \n",
            "\n",
            "R-T-PP-KS-P\n",
            "|       | |\n",
            "KP-L--P-PTP 7 186 \n",
            "\n",
            "R-T-P-PK-S\n",
            "|      | |\n",
            "PL-P-P-TPE 6 187 \n",
            "\n",
            "RTP-PKS-P\n",
            "|   |    \n",
            "L--KK--P- 7 198 \n",
            "\n",
            "RT-PPK-S\n",
            "|  |    \n",
            "K-KP--L- 6 199 \n",
            "\n"
          ]
        },
        {
          "output_type": "execute_result",
          "data": {
            "text/plain": [
              "<Axes: >"
            ]
          },
          "metadata": {},
          "execution_count": 330
        },
        {
          "output_type": "display_data",
          "data": {
            "text/plain": [
              "<Figure size 640x480 with 1 Axes>"
            ],
            "image/png": "[encoded data removed]"
          },
          "metadata": {}
        }
      ]
    },
    {
      "cell_type": "code",
      "source": [
        "# loop through the target embedding with a sliding window, and make the alignment against every window with length=10\n",
        "seq1 = query_sequences[single_query]\n",
        "btk_seq = 'MAAVILESIFLKRSQQKKKTSPLNFKKRLFLLTVHKLSYYEYDFERGRRGSKKGSIDVEKITCVETVVPEKNPPPERQIPRRGEESSEMEQISIIERFPYPFQVVYDEGPLYVFSPTEELRKRWIHQLKNVIRYNSDLVQKYHPCFWIDGQYLCCSQTAKNAMGCQILENRNGSLKPGSSHRKTKKPLPPTPEEDQILKKPLPPEPAAAPVSTSELKKVVALYDYMPMNANDLQLRKGDEYFILEESNLPWWRARDKNGQEGYIPSNYVTEAEDSIEMYEWYSKHMTRSQAEQLLKQEGKEGGFIVRDSSKAGKYTVSVFAKSTGDPQGVIRHYVVCSTPQSQYYLAEKHLFSTIPELINYHQHNSAGLISRLKYPVSQQNKNAPSTAGLGYGSWEIDPKDLTFLKELGTGQFGVVKYGKWRGQYDVAIKMIKEGSMSEDEFIEEAKVMMNLSHEKLVQLYGVCTKQRPIFIITEYMANGCLLNYLREMRHRFQTQQLLEMCKDVCEAMEYLESKQFLHRDLAARNCLVNDQGVVKVSDFGLSRYVLDDEYTSSVGSKFPVRWSPPEVLMYSKFSSKSDIWAFGVLMWEIYSLGKMPYERFTNSETAEHIAQGLRLYRPHLASEKVYTIMYSCWHEKADERPTFKILLSNILDVMDEES'\n",
        "btk_seq_rev = btk_seq[::-1]\n",
        "\n",
        "scores_btk_rev = []\n",
        "scores_long_btk_rev = []\n",
        "target_embeddings_btk_rev = {}\n",
        "target_embeddings_btk_rev[single_target_btk] = torch.flip(target_embeddings_btk[single_target_btk], dims=[0])\n",
        "for i in range(0, target_embeddings_btk[single_target_btk].shape[0] - len(seq1) + 1):\n",
        "  seq2 = btk_seq_rev[i:i+len(seq1)]\n",
        "\n",
        "  results = extr.embedding_to_span(query_embeddings_btk[single_query_btk], target_embeddings_btk_rev[single_target_btk][i:i+len(seq1), :],\n",
        "                                   result_mode='all')\n",
        "  row = results[0]\n",
        "\n",
        "  score = float(round(row['score'].item(), 2))\n",
        "  scores_btk_rev.append(score)\n",
        "\n",
        "  if score > 6:\n",
        "    aln = draw_alignment(row.indices.to_list()[0], seq1, seq2, output='str')\n",
        "    query_len = len(aln.split('\\n')[0].replace('-', ''))\n",
        "    print(aln, query_len, len(btk_seq)-i+1, '\\n')\n",
        "    if query_len > (len(seq1) - 2):\n",
        "      print(aln, query_len, len(btk_seq)-i+1, '\\n')\n",
        "      scores_long_btk_rev.append(score)\n",
        "    else:\n",
        "      scores_long_btk_rev.append(None)\n",
        "  else:\n",
        "    scores_long_btk_rev.append(None)\n",
        "\n",
        "# reverse scores\n",
        "scores_btk_rev = scores_btk_rev[::-1]\n",
        "scores_long_btk_rev = scores_long_btk_rev[::-1]\n",
        "\n",
        "plt.plot(range(len(scores_btk_rev)), scores_btk_rev)\n",
        "sns.scatterplot(x=range(len(scores_btk_rev)), y=scores_btk_rev)\n",
        "sns.scatterplot(x=range(len(scores_btk_rev)), y=scores_long_btk_rev, color='red', zorder=3)"
      ],
      "metadata": {
        "id": "IzqbPTVApICX",
        "outputId": "37cb9d3f-d8a8-420a-a008-f0cba4d6e095",
        "colab": {
          "base_uri": "https://localhost:8080/",
          "height": 1000
        }
      },
      "execution_count": 345,
      "outputs": [
        {
          "output_type": "stream",
          "name": "stdout",
          "text": [
            "PK-SP-\n",
            "||    \n",
            "APE--P 4 208 \n",
            "\n",
            "PP-KS-P\n",
            "||    |\n",
            "PEP--PL 5 207 \n",
            "\n",
            "TP-PK-S\n",
            "||    |\n",
            "EPP--LP 5 206 \n",
            "\n",
            "RT-PP-K\n",
            "||    |\n",
            "PPL--PK 5 205 \n",
            "\n",
            "R--TP-P\n",
            "|     |\n",
            "PLP--KK 4 204 \n",
            "\n",
            "R-T-P\n",
            "| | |\n",
            "LPKKL 3 203 \n",
            "\n",
            "PKSP\n",
            "||||\n",
            "DEEP 4 196 \n",
            "\n",
            "PPKS\n",
            "||||\n",
            "EEPT 4 195 \n",
            "\n",
            "TPPK\n",
            "||||\n",
            "EPTP 4 194 \n",
            "\n",
            "RTPP\n",
            "||||\n",
            "PTPP 4 193 \n",
            "\n",
            "R-TP\n",
            "| ||\n",
            "TPPL 3 192 \n",
            "\n",
            "RTP-P-K\n",
            "||    |\n",
            "PP-L-PK 5 191 \n",
            "\n",
            "R-T-P-P\n",
            "|     |\n",
            "PL-P-KK 4 190 \n",
            "\n",
            "R-T-P\n",
            "| | |\n",
            "LPKKT 3 189 \n",
            "\n",
            "RTPP-\n",
            "||   \n",
            "PP--P 4 77 \n",
            "\n",
            "R-TP-\n",
            "|    \n",
            "PP--N 3 76 \n",
            "\n"
          ]
        },
        {
          "output_type": "execute_result",
          "data": {
            "text/plain": [
              "<Axes: >"
            ]
          },
          "metadata": {},
          "execution_count": 345
        },
        {
          "output_type": "display_data",
          "data": {
            "text/plain": [
              "<Figure size 640x480 with 1 Axes>"
            ],
            "image/png": "[encoded data removed]"
          },
          "metadata": {}
        }
      ]
    }
  ],
  "metadata": {
    "kernelspec": {
      "display_name": "Python 3 (ipykernel)",
      "language": "python",
      "name": "python3"
    },
    "language_info": {
      "codemirror_mode": {
        "name": "ipython",
        "version": 3
      },
      "file_extension": ".py",
      "mimetype": "text/x-python",
      "name": "python",
      "nbconvert_exporter": "python",
      "pygments_lexer": "ipython3",
      "version": "3.9.16"
    },
    "toc": {
      "base_numbering": 1,
      "nav_menu": {},
      "number_sections": true,
      "sideBar": true,
      "skip_h1_title": false,
      "title_cell": "Table of Contents",
      "title_sidebar": "Contents",
      "toc_cell": true,
      "toc_position": {},
      "toc_section_display": true,
      "toc_window_display": false
    },
    "colab": {
      "provenance": [],
      "include_colab_link": true
    },
    "widgets": {
      "application/vnd.jupyter.widget-state+json": {
        "8da2d30189734341af7d4bc28d74f126": {
          "model_module": "@jupyter-widgets/controls",
          "model_name": "HBoxModel",
          "model_module_version": "1.5.0",
          "state": {
            "_dom_classes": [],
            "_model_module": "@jupyter-widgets/controls",
            "_model_module_version": "1.5.0",
            "_model_name": "HBoxModel",
            "_view_count": null,
            "_view_module": "@jupyter-widgets/controls",
            "_view_module_version": "1.5.0",
            "_view_name": "HBoxView",
            "box_style": "",
            "children": [
              "IPY_MODEL_846b571f9f194c9799a96ee6d1dbb339",
              "IPY_MODEL_abaef0e1d9eb4307a1c37fdc7ae87442",
              "IPY_MODEL_6388041ed7904305a2a97afa42759a4e"
            ],
            "layout": "IPY_MODEL_33aaf85a4c754d2cb5e7121145b13cb3"
          }
        },
        "846b571f9f194c9799a96ee6d1dbb339": {
          "model_module": "@jupyter-widgets/controls",
          "model_name": "HTMLModel",
          "model_module_version": "1.5.0",
          "state": {
            "_dom_classes": [],
            "_model_module": "@jupyter-widgets/controls",
            "_model_module_version": "1.5.0",
            "_model_name": "HTMLModel",
            "_view_count": null,
            "_view_module": "@jupyter-widgets/controls",
            "_view_module_version": "1.5.0",
            "_view_name": "HTMLView",
            "description": "",
            "description_tooltip": null,
            "layout": "IPY_MODEL_0e7e35e706bc4efe9748b9f3c84a49aa",
            "placeholder": "​",
            "style": "IPY_MODEL_8e1b171cf7e24b98960562882e25dd07",
            "value": "config.json: 100%"
          }
        },
        "abaef0e1d9eb4307a1c37fdc7ae87442": {
          "model_module": "@jupyter-widgets/controls",
          "model_name": "FloatProgressModel",
          "model_module_version": "1.5.0",
          "state": {
            "_dom_classes": [],
            "_model_module": "@jupyter-widgets/controls",
            "_model_module_version": "1.5.0",
            "_model_name": "FloatProgressModel",
            "_view_count": null,
            "_view_module": "@jupyter-widgets/controls",
            "_view_module_version": "1.5.0",
            "_view_name": "ProgressView",
            "bar_style": "success",
            "description": "",
            "description_tooltip": null,
            "layout": "IPY_MODEL_cb1302a94a3246f498f862e63d435863",
            "max": 546,
            "min": 0,
            "orientation": "horizontal",
            "style": "IPY_MODEL_1fe7127a6e9d4c40bc160c1a73a4bd8b",
            "value": 546
          }
        },
        "6388041ed7904305a2a97afa42759a4e": {
          "model_module": "@jupyter-widgets/controls",
          "model_name": "HTMLModel",
          "model_module_version": "1.5.0",
          "state": {
            "_dom_classes": [],
            "_model_module": "@jupyter-widgets/controls",
            "_model_module_version": "1.5.0",
            "_model_name": "HTMLModel",
            "_view_count": null,
            "_view_module": "@jupyter-widgets/controls",
            "_view_module_version": "1.5.0",
            "_view_name": "HTMLView",
            "description": "",
            "description_tooltip": null,
            "layout": "IPY_MODEL_7aca4c1a4421425dbd6dec128cab708c",
            "placeholder": "​",
            "style": "IPY_MODEL_9611a4d6ffae42648e87ce62adaa0a49",
            "value": " 546/546 [00:00&lt;00:00, 17.6kB/s]"
          }
        },
        "33aaf85a4c754d2cb5e7121145b13cb3": {
          "model_module": "@jupyter-widgets/base",
          "model_name": "LayoutModel",
          "model_module_version": "1.2.0",
          "state": {
            "_model_module": "@jupyter-widgets/base",
            "_model_module_version": "1.2.0",
            "_model_name": "LayoutModel",
            "_view_count": null,
            "_view_module": "@jupyter-widgets/base",
            "_view_module_version": "1.2.0",
            "_view_name": "LayoutView",
            "align_content": null,
            "align_items": null,
            "align_self": null,
            "border": null,
            "bottom": null,
            "display": null,
            "flex": null,
            "flex_flow": null,
            "grid_area": null,
            "grid_auto_columns": null,
            "grid_auto_flow": null,
            "grid_auto_rows": null,
            "grid_column": null,
            "grid_gap": null,
            "grid_row": null,
            "grid_template_areas": null,
            "grid_template_columns": null,
            "grid_template_rows": null,
            "height": null,
            "justify_content": null,
            "justify_items": null,
            "left": null,
            "margin": null,
            "max_height": null,
            "max_width": null,
            "min_height": null,
            "min_width": null,
            "object_fit": null,
            "object_position": null,
            "order": null,
            "overflow": null,
            "overflow_x": null,
            "overflow_y": null,
            "padding": null,
            "right": null,
            "top": null,
            "visibility": null,
            "width": null
          }
        },
        "0e7e35e706bc4efe9748b9f3c84a49aa": {
          "model_module": "@jupyter-widgets/base",
          "model_name": "LayoutModel",
          "model_module_version": "1.2.0",
          "state": {
            "_model_module": "@jupyter-widgets/base",
            "_model_module_version": "1.2.0",
            "_model_name": "LayoutModel",
            "_view_count": null,
            "_view_module": "@jupyter-widgets/base",
            "_view_module_version": "1.2.0",
            "_view_name": "LayoutView",
            "align_content": null,
            "align_items": null,
            "align_self": null,
            "border": null,
            "bottom": null,
            "display": null,
            "flex": null,
            "flex_flow": null,
            "grid_area": null,
            "grid_auto_columns": null,
            "grid_auto_flow": null,
            "grid_auto_rows": null,
            "grid_column": null,
            "grid_gap": null,
            "grid_row": null,
            "grid_template_areas": null,
            "grid_template_columns": null,
            "grid_template_rows": null,
            "height": null,
            "justify_content": null,
            "justify_items": null,
            "left": null,
            "margin": null,
            "max_height": null,
            "max_width": null,
            "min_height": null,
            "min_width": null,
            "object_fit": null,
            "object_position": null,
            "order": null,
            "overflow": null,
            "overflow_x": null,
            "overflow_y": null,
            "padding": null,
            "right": null,
            "top": null,
            "visibility": null,
            "width": null
          }
        },
        "8e1b171cf7e24b98960562882e25dd07": {
          "model_module": "@jupyter-widgets/controls",
          "model_name": "DescriptionStyleModel",
          "model_module_version": "1.5.0",
          "state": {
            "_model_module": "@jupyter-widgets/controls",
            "_model_module_version": "1.5.0",
            "_model_name": "DescriptionStyleModel",
            "_view_count": null,
            "_view_module": "@jupyter-widgets/base",
            "_view_module_version": "1.2.0",
            "_view_name": "StyleView",
            "description_width": ""
          }
        },
        "cb1302a94a3246f498f862e63d435863": {
          "model_module": "@jupyter-widgets/base",
          "model_name": "LayoutModel",
          "model_module_version": "1.2.0",
          "state": {
            "_model_module": "@jupyter-widgets/base",
            "_model_module_version": "1.2.0",
            "_model_name": "LayoutModel",
            "_view_count": null,
            "_view_module": "@jupyter-widgets/base",
            "_view_module_version": "1.2.0",
            "_view_name": "LayoutView",
            "align_content": null,
            "align_items": null,
            "align_self": null,
            "border": null,
            "bottom": null,
            "display": null,
            "flex": null,
            "flex_flow": null,
            "grid_area": null,
            "grid_auto_columns": null,
            "grid_auto_flow": null,
            "grid_auto_rows": null,
            "grid_column": null,
            "grid_gap": null,
            "grid_row": null,
            "grid_template_areas": null,
            "grid_template_columns": null,
            "grid_template_rows": null,
            "height": null,
            "justify_content": null,
            "justify_items": null,
            "left": null,
            "margin": null,
            "max_height": null,
            "max_width": null,
            "min_height": null,
            "min_width": null,
            "object_fit": null,
            "object_position": null,
            "order": null,
            "overflow": null,
            "overflow_x": null,
            "overflow_y": null,
            "padding": null,
            "right": null,
            "top": null,
            "visibility": null,
            "width": null
          }
        },
        "1fe7127a6e9d4c40bc160c1a73a4bd8b": {
          "model_module": "@jupyter-widgets/controls",
          "model_name": "ProgressStyleModel",
          "model_module_version": "1.5.0",
          "state": {
            "_model_module": "@jupyter-widgets/controls",
            "_model_module_version": "1.5.0",
            "_model_name": "ProgressStyleModel",
            "_view_count": null,
            "_view_module": "@jupyter-widgets/base",
            "_view_module_version": "1.2.0",
            "_view_name": "StyleView",
            "bar_color": null,
            "description_width": ""
          }
        },
        "7aca4c1a4421425dbd6dec128cab708c": {
          "model_module": "@jupyter-widgets/base",
          "model_name": "LayoutModel",
          "model_module_version": "1.2.0",
          "state": {
            "_model_module": "@jupyter-widgets/base",
            "_model_module_version": "1.2.0",
            "_model_name": "LayoutModel",
            "_view_count": null,
            "_view_module": "@jupyter-widgets/base",
            "_view_module_version": "1.2.0",
            "_view_name": "LayoutView",
            "align_content": null,
            "align_items": null,
            "align_self": null,
            "border": null,
            "bottom": null,
            "display": null,
            "flex": null,
            "flex_flow": null,
            "grid_area": null,
            "grid_auto_columns": null,
            "grid_auto_flow": null,
            "grid_auto_rows": null,
            "grid_column": null,
            "grid_gap": null,
            "grid_row": null,
            "grid_template_areas": null,
            "grid_template_columns": null,
            "grid_template_rows": null,
            "height": null,
            "justify_content": null,
            "justify_items": null,
            "left": null,
            "margin": null,
            "max_height": null,
            "max_width": null,
            "min_height": null,
            "min_width": null,
            "object_fit": null,
            "object_position": null,
            "order": null,
            "overflow": null,
            "overflow_x": null,
            "overflow_y": null,
            "padding": null,
            "right": null,
            "top": null,
            "visibility": null,
            "width": null
          }
        },
        "9611a4d6ffae42648e87ce62adaa0a49": {
          "model_module": "@jupyter-widgets/controls",
          "model_name": "DescriptionStyleModel",
          "model_module_version": "1.5.0",
          "state": {
            "_model_module": "@jupyter-widgets/controls",
            "_model_module_version": "1.5.0",
            "_model_name": "DescriptionStyleModel",
            "_view_count": null,
            "_view_module": "@jupyter-widgets/base",
            "_view_module_version": "1.2.0",
            "_view_name": "StyleView",
            "description_width": ""
          }
        },
        "60b23f5f4ce641fbbd2bf6c60f8e62ad": {
          "model_module": "@jupyter-widgets/controls",
          "model_name": "HBoxModel",
          "model_module_version": "1.5.0",
          "state": {
            "_dom_classes": [],
            "_model_module": "@jupyter-widgets/controls",
            "_model_module_version": "1.5.0",
            "_model_name": "HBoxModel",
            "_view_count": null,
            "_view_module": "@jupyter-widgets/controls",
            "_view_module_version": "1.5.0",
            "_view_name": "HBoxView",
            "box_style": "",
            "children": [
              "IPY_MODEL_2f5c280bbbe747f09eb0e7a65d68f973",
              "IPY_MODEL_183325266e6341dca98cf6a921b0f53c",
              "IPY_MODEL_2a086590bde449b4a05685a3272b07cc"
            ],
            "layout": "IPY_MODEL_7ad81ddca9004261b0cad8fb90777726"
          }
        },
        "2f5c280bbbe747f09eb0e7a65d68f973": {
          "model_module": "@jupyter-widgets/controls",
          "model_name": "HTMLModel",
          "model_module_version": "1.5.0",
          "state": {
            "_dom_classes": [],
            "_model_module": "@jupyter-widgets/controls",
            "_model_module_version": "1.5.0",
            "_model_name": "HTMLModel",
            "_view_count": null,
            "_view_module": "@jupyter-widgets/controls",
            "_view_module_version": "1.5.0",
            "_view_name": "HTMLView",
            "description": "",
            "description_tooltip": null,
            "layout": "IPY_MODEL_f388669e651d41539f97c3d0bbb165b7",
            "placeholder": "​",
            "style": "IPY_MODEL_11ec9e148f464129bbe99a8f88e7cdca",
            "value": "pytorch_model.bin: 100%"
          }
        },
        "183325266e6341dca98cf6a921b0f53c": {
          "model_module": "@jupyter-widgets/controls",
          "model_name": "FloatProgressModel",
          "model_module_version": "1.5.0",
          "state": {
            "_dom_classes": [],
            "_model_module": "@jupyter-widgets/controls",
            "_model_module_version": "1.5.0",
            "_model_name": "FloatProgressModel",
            "_view_count": null,
            "_view_module": "@jupyter-widgets/controls",
            "_view_module_version": "1.5.0",
            "_view_name": "ProgressView",
            "bar_style": "success",
            "description": "",
            "description_tooltip": null,
            "layout": "IPY_MODEL_c09d505c1ad247c18cc0de0bfa0747a7",
            "max": 11275562724,
            "min": 0,
            "orientation": "horizontal",
            "style": "IPY_MODEL_cef92b3dae264b029b69c734c979ee6f",
            "value": 11275562724
          }
        },
        "2a086590bde449b4a05685a3272b07cc": {
          "model_module": "@jupyter-widgets/controls",
          "model_name": "HTMLModel",
          "model_module_version": "1.5.0",
          "state": {
            "_dom_classes": [],
            "_model_module": "@jupyter-widgets/controls",
            "_model_module_version": "1.5.0",
            "_model_name": "HTMLModel",
            "_view_count": null,
            "_view_module": "@jupyter-widgets/controls",
            "_view_module_version": "1.5.0",
            "_view_name": "HTMLView",
            "description": "",
            "description_tooltip": null,
            "layout": "IPY_MODEL_7409b9ec291448da82715029d5ed4343",
            "placeholder": "​",
            "style": "IPY_MODEL_62d5ee269aea45b589a568ec85bc5ad4",
            "value": " 11.3G/11.3G [01:22&lt;00:00, 111MB/s]"
          }
        },
        "7ad81ddca9004261b0cad8fb90777726": {
          "model_module": "@jupyter-widgets/base",
          "model_name": "LayoutModel",
          "model_module_version": "1.2.0",
          "state": {
            "_model_module": "@jupyter-widgets/base",
            "_model_module_version": "1.2.0",
            "_model_name": "LayoutModel",
            "_view_count": null,
            "_view_module": "@jupyter-widgets/base",
            "_view_module_version": "1.2.0",
            "_view_name": "LayoutView",
            "align_content": null,
            "align_items": null,
            "align_self": null,
            "border": null,
            "bottom": null,
            "display": null,
            "flex": null,
            "flex_flow": null,
            "grid_area": null,
            "grid_auto_columns": null,
            "grid_auto_flow": null,
            "grid_auto_rows": null,
            "grid_column": null,
            "grid_gap": null,
            "grid_row": null,
            "grid_template_areas": null,
            "grid_template_columns": null,
            "grid_template_rows": null,
            "height": null,
            "justify_content": null,
            "justify_items": null,
            "left": null,
            "margin": null,
            "max_height": null,
            "max_width": null,
            "min_height": null,
            "min_width": null,
            "object_fit": null,
            "object_position": null,
            "order": null,
            "overflow": null,
            "overflow_x": null,
            "overflow_y": null,
            "padding": null,
            "right": null,
            "top": null,
            "visibility": null,
            "width": null
          }
        },
        "f388669e651d41539f97c3d0bbb165b7": {
          "model_module": "@jupyter-widgets/base",
          "model_name": "LayoutModel",
          "model_module_version": "1.2.0",
          "state": {
            "_model_module": "@jupyter-widgets/base",
            "_model_module_version": "1.2.0",
            "_model_name": "LayoutModel",
            "_view_count": null,
            "_view_module": "@jupyter-widgets/base",
            "_view_module_version": "1.2.0",
            "_view_name": "LayoutView",
            "align_content": null,
            "align_items": null,
            "align_self": null,
            "border": null,
            "bottom": null,
            "display": null,
            "flex": null,
            "flex_flow": null,
            "grid_area": null,
            "grid_auto_columns": null,
            "grid_auto_flow": null,
            "grid_auto_rows": null,
            "grid_column": null,
            "grid_gap": null,
            "grid_row": null,
            "grid_template_areas": null,
            "grid_template_columns": null,
            "grid_template_rows": null,
            "height": null,
            "justify_content": null,
            "justify_items": null,
            "left": null,
            "margin": null,
            "max_height": null,
            "max_width": null,
            "min_height": null,
            "min_width": null,
            "object_fit": null,
            "object_position": null,
            "order": null,
            "overflow": null,
            "overflow_x": null,
            "overflow_y": null,
            "padding": null,
            "right": null,
            "top": null,
            "visibility": null,
            "width": null
          }
        },
        "11ec9e148f464129bbe99a8f88e7cdca": {
          "model_module": "@jupyter-widgets/controls",
          "model_name": "DescriptionStyleModel",
          "model_module_version": "1.5.0",
          "state": {
            "_model_module": "@jupyter-widgets/controls",
            "_model_module_version": "1.5.0",
            "_model_name": "DescriptionStyleModel",
            "_view_count": null,
            "_view_module": "@jupyter-widgets/base",
            "_view_module_version": "1.2.0",
            "_view_name": "StyleView",
            "description_width": ""
          }
        },
        "c09d505c1ad247c18cc0de0bfa0747a7": {
          "model_module": "@jupyter-widgets/base",
          "model_name": "LayoutModel",
          "model_module_version": "1.2.0",
          "state": {
            "_model_module": "@jupyter-widgets/base",
            "_model_module_version": "1.2.0",
            "_model_name": "LayoutModel",
            "_view_count": null,
            "_view_module": "@jupyter-widgets/base",
            "_view_module_version": "1.2.0",
            "_view_name": "LayoutView",
            "align_content": null,
            "align_items": null,
            "align_self": null,
            "border": null,
            "bottom": null,
            "display": null,
            "flex": null,
            "flex_flow": null,
            "grid_area": null,
            "grid_auto_columns": null,
            "grid_auto_flow": null,
            "grid_auto_rows": null,
            "grid_column": null,
            "grid_gap": null,
            "grid_row": null,
            "grid_template_areas": null,
            "grid_template_columns": null,
            "grid_template_rows": null,
            "height": null,
            "justify_content": null,
            "justify_items": null,
            "left": null,
            "margin": null,
            "max_height": null,
            "max_width": null,
            "min_height": null,
            "min_width": null,
            "object_fit": null,
            "object_position": null,
            "order": null,
            "overflow": null,
            "overflow_x": null,
            "overflow_y": null,
            "padding": null,
            "right": null,
            "top": null,
            "visibility": null,
            "width": null
          }
        },
        "cef92b3dae264b029b69c734c979ee6f": {
          "model_module": "@jupyter-widgets/controls",
          "model_name": "ProgressStyleModel",
          "model_module_version": "1.5.0",
          "state": {
            "_model_module": "@jupyter-widgets/controls",
            "_model_module_version": "1.5.0",
            "_model_name": "ProgressStyleModel",
            "_view_count": null,
            "_view_module": "@jupyter-widgets/base",
            "_view_module_version": "1.2.0",
            "_view_name": "StyleView",
            "bar_color": null,
            "description_width": ""
          }
        },
        "7409b9ec291448da82715029d5ed4343": {
          "model_module": "@jupyter-widgets/base",
          "model_name": "LayoutModel",
          "model_module_version": "1.2.0",
          "state": {
            "_model_module": "@jupyter-widgets/base",
            "_model_module_version": "1.2.0",
            "_model_name": "LayoutModel",
            "_view_count": null,
            "_view_module": "@jupyter-widgets/base",
            "_view_module_version": "1.2.0",
            "_view_name": "LayoutView",
            "align_content": null,
            "align_items": null,
            "align_self": null,
            "border": null,
            "bottom": null,
            "display": null,
            "flex": null,
            "flex_flow": null,
            "grid_area": null,
            "grid_auto_columns": null,
            "grid_auto_flow": null,
            "grid_auto_rows": null,
            "grid_column": null,
            "grid_gap": null,
            "grid_row": null,
            "grid_template_areas": null,
            "grid_template_columns": null,
            "grid_template_rows": null,
            "height": null,
            "justify_content": null,
            "justify_items": null,
            "left": null,
            "margin": null,
            "max_height": null,
            "max_width": null,
            "min_height": null,
            "min_width": null,
            "object_fit": null,
            "object_position": null,
            "order": null,
            "overflow": null,
            "overflow_x": null,
            "overflow_y": null,
            "padding": null,
            "right": null,
            "top": null,
            "visibility": null,
            "width": null
          }
        },
        "62d5ee269aea45b589a568ec85bc5ad4": {
          "model_module": "@jupyter-widgets/controls",
          "model_name": "DescriptionStyleModel",
          "model_module_version": "1.5.0",
          "state": {
            "_model_module": "@jupyter-widgets/controls",
            "_model_module_version": "1.5.0",
            "_model_name": "DescriptionStyleModel",
            "_view_count": null,
            "_view_module": "@jupyter-widgets/base",
            "_view_module_version": "1.2.0",
            "_view_name": "StyleView",
            "description_width": ""
          }
        },
        "63ffd383acab44178bd3750258df9aca": {
          "model_module": "@jupyter-widgets/controls",
          "model_name": "HBoxModel",
          "model_module_version": "1.5.0",
          "state": {
            "_dom_classes": [],
            "_model_module": "@jupyter-widgets/controls",
            "_model_module_version": "1.5.0",
            "_model_name": "HBoxModel",
            "_view_count": null,
            "_view_module": "@jupyter-widgets/controls",
            "_view_module_version": "1.5.0",
            "_view_name": "HBoxView",
            "box_style": "",
            "children": [
              "IPY_MODEL_84fdfc67b7604ab1bc7df5b5214cc06a",
              "IPY_MODEL_d4bd8b27c90d4028b1b1805cd6391751",
              "IPY_MODEL_9762419aa7d2419ea564a23e0b84615b"
            ],
            "layout": "IPY_MODEL_77353c95824a4c52890931c797bad716"
          }
        },
        "84fdfc67b7604ab1bc7df5b5214cc06a": {
          "model_module": "@jupyter-widgets/controls",
          "model_name": "HTMLModel",
          "model_module_version": "1.5.0",
          "state": {
            "_dom_classes": [],
            "_model_module": "@jupyter-widgets/controls",
            "_model_module_version": "1.5.0",
            "_model_name": "HTMLModel",
            "_view_count": null,
            "_view_module": "@jupyter-widgets/controls",
            "_view_module_version": "1.5.0",
            "_view_name": "HTMLView",
            "description": "",
            "description_tooltip": null,
            "layout": "IPY_MODEL_9af216558eb34c9db9645a3703095d26",
            "placeholder": "​",
            "style": "IPY_MODEL_9d8202c1b4664caf9138cf003bf7fbf3",
            "value": "tokenizer_config.json: 100%"
          }
        },
        "d4bd8b27c90d4028b1b1805cd6391751": {
          "model_module": "@jupyter-widgets/controls",
          "model_name": "FloatProgressModel",
          "model_module_version": "1.5.0",
          "state": {
            "_dom_classes": [],
            "_model_module": "@jupyter-widgets/controls",
            "_model_module_version": "1.5.0",
            "_model_name": "FloatProgressModel",
            "_view_count": null,
            "_view_module": "@jupyter-widgets/controls",
            "_view_module_version": "1.5.0",
            "_view_name": "ProgressView",
            "bar_style": "success",
            "description": "",
            "description_tooltip": null,
            "layout": "IPY_MODEL_a0324f7e54cc4e5ba2b26aed5a0ed024",
            "max": 24,
            "min": 0,
            "orientation": "horizontal",
            "style": "IPY_MODEL_6e931681861f457bbd265b0fc6f2efe1",
            "value": 24
          }
        },
        "9762419aa7d2419ea564a23e0b84615b": {
          "model_module": "@jupyter-widgets/controls",
          "model_name": "HTMLModel",
          "model_module_version": "1.5.0",
          "state": {
            "_dom_classes": [],
            "_model_module": "@jupyter-widgets/controls",
            "_model_module_version": "1.5.0",
            "_model_name": "HTMLModel",
            "_view_count": null,
            "_view_module": "@jupyter-widgets/controls",
            "_view_module_version": "1.5.0",
            "_view_name": "HTMLView",
            "description": "",
            "description_tooltip": null,
            "layout": "IPY_MODEL_14af6a2294ed41c0896b0c43da19b8a3",
            "placeholder": "​",
            "style": "IPY_MODEL_2d522264d98b486aa89e0c1678f6120c",
            "value": " 24.0/24.0 [00:00&lt;00:00, 940B/s]"
          }
        },
        "77353c95824a4c52890931c797bad716": {
          "model_module": "@jupyter-widgets/base",
          "model_name": "LayoutModel",
          "model_module_version": "1.2.0",
          "state": {
            "_model_module": "@jupyter-widgets/base",
            "_model_module_version": "1.2.0",
            "_model_name": "LayoutModel",
            "_view_count": null,
            "_view_module": "@jupyter-widgets/base",
            "_view_module_version": "1.2.0",
            "_view_name": "LayoutView",
            "align_content": null,
            "align_items": null,
            "align_self": null,
            "border": null,
            "bottom": null,
            "display": null,
            "flex": null,
            "flex_flow": null,
            "grid_area": null,
            "grid_auto_columns": null,
            "grid_auto_flow": null,
            "grid_auto_rows": null,
            "grid_column": null,
            "grid_gap": null,
            "grid_row": null,
            "grid_template_areas": null,
            "grid_template_columns": null,
            "grid_template_rows": null,
            "height": null,
            "justify_content": null,
            "justify_items": null,
            "left": null,
            "margin": null,
            "max_height": null,
            "max_width": null,
            "min_height": null,
            "min_width": null,
            "object_fit": null,
            "object_position": null,
            "order": null,
            "overflow": null,
            "overflow_x": null,
            "overflow_y": null,
            "padding": null,
            "right": null,
            "top": null,
            "visibility": null,
            "width": null
          }
        },
        "9af216558eb34c9db9645a3703095d26": {
          "model_module": "@jupyter-widgets/base",
          "model_name": "LayoutModel",
          "model_module_version": "1.2.0",
          "state": {
            "_model_module": "@jupyter-widgets/base",
            "_model_module_version": "1.2.0",
            "_model_name": "LayoutModel",
            "_view_count": null,
            "_view_module": "@jupyter-widgets/base",
            "_view_module_version": "1.2.0",
            "_view_name": "LayoutView",
            "align_content": null,
            "align_items": null,
            "align_self": null,
            "border": null,
            "bottom": null,
            "display": null,
            "flex": null,
            "flex_flow": null,
            "grid_area": null,
            "grid_auto_columns": null,
            "grid_auto_flow": null,
            "grid_auto_rows": null,
            "grid_column": null,
            "grid_gap": null,
            "grid_row": null,
            "grid_template_areas": null,
            "grid_template_columns": null,
            "grid_template_rows": null,
            "height": null,
            "justify_content": null,
            "justify_items": null,
            "left": null,
            "margin": null,
            "max_height": null,
            "max_width": null,
            "min_height": null,
            "min_width": null,
            "object_fit": null,
            "object_position": null,
            "order": null,
            "overflow": null,
            "overflow_x": null,
            "overflow_y": null,
            "padding": null,
            "right": null,
            "top": null,
            "visibility": null,
            "width": null
          }
        },
        "9d8202c1b4664caf9138cf003bf7fbf3": {
          "model_module": "@jupyter-widgets/controls",
          "model_name": "DescriptionStyleModel",
          "model_module_version": "1.5.0",
          "state": {
            "_model_module": "@jupyter-widgets/controls",
            "_model_module_version": "1.5.0",
            "_model_name": "DescriptionStyleModel",
            "_view_count": null,
            "_view_module": "@jupyter-widgets/base",
            "_view_module_version": "1.2.0",
            "_view_name": "StyleView",
            "description_width": ""
          }
        },
        "a0324f7e54cc4e5ba2b26aed5a0ed024": {
          "model_module": "@jupyter-widgets/base",
          "model_name": "LayoutModel",
          "model_module_version": "1.2.0",
          "state": {
            "_model_module": "@jupyter-widgets/base",
            "_model_module_version": "1.2.0",
            "_model_name": "LayoutModel",
            "_view_count": null,
            "_view_module": "@jupyter-widgets/base",
            "_view_module_version": "1.2.0",
            "_view_name": "LayoutView",
            "align_content": null,
            "align_items": null,
            "align_self": null,
            "border": null,
            "bottom": null,
            "display": null,
            "flex": null,
            "flex_flow": null,
            "grid_area": null,
            "grid_auto_columns": null,
            "grid_auto_flow": null,
            "grid_auto_rows": null,
            "grid_column": null,
            "grid_gap": null,
            "grid_row": null,
            "grid_template_areas": null,
            "grid_template_columns": null,
            "grid_template_rows": null,
            "height": null,
            "justify_content": null,
            "justify_items": null,
            "left": null,
            "margin": null,
            "max_height": null,
            "max_width": null,
            "min_height": null,
            "min_width": null,
            "object_fit": null,
            "object_position": null,
            "order": null,
            "overflow": null,
            "overflow_x": null,
            "overflow_y": null,
            "padding": null,
            "right": null,
            "top": null,
            "visibility": null,
            "width": null
          }
        },
        "6e931681861f457bbd265b0fc6f2efe1": {
          "model_module": "@jupyter-widgets/controls",
          "model_name": "ProgressStyleModel",
          "model_module_version": "1.5.0",
          "state": {
            "_model_module": "@jupyter-widgets/controls",
            "_model_module_version": "1.5.0",
            "_model_name": "ProgressStyleModel",
            "_view_count": null,
            "_view_module": "@jupyter-widgets/base",
            "_view_module_version": "1.2.0",
            "_view_name": "StyleView",
            "bar_color": null,
            "description_width": ""
          }
        },
        "14af6a2294ed41c0896b0c43da19b8a3": {
          "model_module": "@jupyter-widgets/base",
          "model_name": "LayoutModel",
          "model_module_version": "1.2.0",
          "state": {
            "_model_module": "@jupyter-widgets/base",
            "_model_module_version": "1.2.0",
            "_model_name": "LayoutModel",
            "_view_count": null,
            "_view_module": "@jupyter-widgets/base",
            "_view_module_version": "1.2.0",
            "_view_name": "LayoutView",
            "align_content": null,
            "align_items": null,
            "align_self": null,
            "border": null,
            "bottom": null,
            "display": null,
            "flex": null,
            "flex_flow": null,
            "grid_area": null,
            "grid_auto_columns": null,
            "grid_auto_flow": null,
            "grid_auto_rows": null,
            "grid_column": null,
            "grid_gap": null,
            "grid_row": null,
            "grid_template_areas": null,
            "grid_template_columns": null,
            "grid_template_rows": null,
            "height": null,
            "justify_content": null,
            "justify_items": null,
            "left": null,
            "margin": null,
            "max_height": null,
            "max_width": null,
            "min_height": null,
            "min_width": null,
            "object_fit": null,
            "object_position": null,
            "order": null,
            "overflow": null,
            "overflow_x": null,
            "overflow_y": null,
            "padding": null,
            "right": null,
            "top": null,
            "visibility": null,
            "width": null
          }
        },
        "2d522264d98b486aa89e0c1678f6120c": {
          "model_module": "@jupyter-widgets/controls",
          "model_name": "DescriptionStyleModel",
          "model_module_version": "1.5.0",
          "state": {
            "_model_module": "@jupyter-widgets/controls",
            "_model_module_version": "1.5.0",
            "_model_name": "DescriptionStyleModel",
            "_view_count": null,
            "_view_module": "@jupyter-widgets/base",
            "_view_module_version": "1.2.0",
            "_view_name": "StyleView",
            "description_width": ""
          }
        },
        "16a7c619812e4771b5af09021c71b996": {
          "model_module": "@jupyter-widgets/controls",
          "model_name": "HBoxModel",
          "model_module_version": "1.5.0",
          "state": {
            "_dom_classes": [],
            "_model_module": "@jupyter-widgets/controls",
            "_model_module_version": "1.5.0",
            "_model_name": "HBoxModel",
            "_view_count": null,
            "_view_module": "@jupyter-widgets/controls",
            "_view_module_version": "1.5.0",
            "_view_name": "HBoxView",
            "box_style": "",
            "children": [
              "IPY_MODEL_6328024d0d424f5c8b3b5ee95c75ed5a",
              "IPY_MODEL_82d58e8950b8458091fbb3d6964d90a1",
              "IPY_MODEL_9dfe86b0cd8a4f159c5a61aee50aa622"
            ],
            "layout": "IPY_MODEL_4a7a105cd2044fe180d053dd1fe768b6"
          }
        },
        "6328024d0d424f5c8b3b5ee95c75ed5a": {
          "model_module": "@jupyter-widgets/controls",
          "model_name": "HTMLModel",
          "model_module_version": "1.5.0",
          "state": {
            "_dom_classes": [],
            "_model_module": "@jupyter-widgets/controls",
            "_model_module_version": "1.5.0",
            "_model_name": "HTMLModel",
            "_view_count": null,
            "_view_module": "@jupyter-widgets/controls",
            "_view_module_version": "1.5.0",
            "_view_name": "HTMLView",
            "description": "",
            "description_tooltip": null,
            "layout": "IPY_MODEL_9831815903fb4653beb885d077d54486",
            "placeholder": "​",
            "style": "IPY_MODEL_b6cba7fafbf24d68b1fdbbce467323e8",
            "value": "spiece.model: 100%"
          }
        },
        "82d58e8950b8458091fbb3d6964d90a1": {
          "model_module": "@jupyter-widgets/controls",
          "model_name": "FloatProgressModel",
          "model_module_version": "1.5.0",
          "state": {
            "_dom_classes": [],
            "_model_module": "@jupyter-widgets/controls",
            "_model_module_version": "1.5.0",
            "_model_name": "FloatProgressModel",
            "_view_count": null,
            "_view_module": "@jupyter-widgets/controls",
            "_view_module_version": "1.5.0",
            "_view_name": "ProgressView",
            "bar_style": "success",
            "description": "",
            "description_tooltip": null,
            "layout": "IPY_MODEL_2a37e284e0cc4f20ad0846e03be70699",
            "max": 237990,
            "min": 0,
            "orientation": "horizontal",
            "style": "IPY_MODEL_945543980fdc4579b28acb5be35be4b3",
            "value": 237990
          }
        },
        "9dfe86b0cd8a4f159c5a61aee50aa622": {
          "model_module": "@jupyter-widgets/controls",
          "model_name": "HTMLModel",
          "model_module_version": "1.5.0",
          "state": {
            "_dom_classes": [],
            "_model_module": "@jupyter-widgets/controls",
            "_model_module_version": "1.5.0",
            "_model_name": "HTMLModel",
            "_view_count": null,
            "_view_module": "@jupyter-widgets/controls",
            "_view_module_version": "1.5.0",
            "_view_name": "HTMLView",
            "description": "",
            "description_tooltip": null,
            "layout": "IPY_MODEL_2e9cf01830694194989240ad2e592dd1",
            "placeholder": "​",
            "style": "IPY_MODEL_6d08c1db22d740ec98b1789ac985b5e8",
            "value": " 238k/238k [00:00&lt;00:00, 1.39MB/s]"
          }
        },
        "4a7a105cd2044fe180d053dd1fe768b6": {
          "model_module": "@jupyter-widgets/base",
          "model_name": "LayoutModel",
          "model_module_version": "1.2.0",
          "state": {
            "_model_module": "@jupyter-widgets/base",
            "_model_module_version": "1.2.0",
            "_model_name": "LayoutModel",
            "_view_count": null,
            "_view_module": "@jupyter-widgets/base",
            "_view_module_version": "1.2.0",
            "_view_name": "LayoutView",
            "align_content": null,
            "align_items": null,
            "align_self": null,
            "border": null,
            "bottom": null,
            "display": null,
            "flex": null,
            "flex_flow": null,
            "grid_area": null,
            "grid_auto_columns": null,
            "grid_auto_flow": null,
            "grid_auto_rows": null,
            "grid_column": null,
            "grid_gap": null,
            "grid_row": null,
            "grid_template_areas": null,
            "grid_template_columns": null,
            "grid_template_rows": null,
            "height": null,
            "justify_content": null,
            "justify_items": null,
            "left": null,
            "margin": null,
            "max_height": null,
            "max_width": null,
            "min_height": null,
            "min_width": null,
            "object_fit": null,
            "object_position": null,
            "order": null,
            "overflow": null,
            "overflow_x": null,
            "overflow_y": null,
            "padding": null,
            "right": null,
            "top": null,
            "visibility": null,
            "width": null
          }
        },
        "9831815903fb4653beb885d077d54486": {
          "model_module": "@jupyter-widgets/base",
          "model_name": "LayoutModel",
          "model_module_version": "1.2.0",
          "state": {
            "_model_module": "@jupyter-widgets/base",
            "_model_module_version": "1.2.0",
            "_model_name": "LayoutModel",
            "_view_count": null,
            "_view_module": "@jupyter-widgets/base",
            "_view_module_version": "1.2.0",
            "_view_name": "LayoutView",
            "align_content": null,
            "align_items": null,
            "align_self": null,
            "border": null,
            "bottom": null,
            "display": null,
            "flex": null,
            "flex_flow": null,
            "grid_area": null,
            "grid_auto_columns": null,
            "grid_auto_flow": null,
            "grid_auto_rows": null,
            "grid_column": null,
            "grid_gap": null,
            "grid_row": null,
            "grid_template_areas": null,
            "grid_template_columns": null,
            "grid_template_rows": null,
            "height": null,
            "justify_content": null,
            "justify_items": null,
            "left": null,
            "margin": null,
            "max_height": null,
            "max_width": null,
            "min_height": null,
            "min_width": null,
            "object_fit": null,
            "object_position": null,
            "order": null,
            "overflow": null,
            "overflow_x": null,
            "overflow_y": null,
            "padding": null,
            "right": null,
            "top": null,
            "visibility": null,
            "width": null
          }
        },
        "b6cba7fafbf24d68b1fdbbce467323e8": {
          "model_module": "@jupyter-widgets/controls",
          "model_name": "DescriptionStyleModel",
          "model_module_version": "1.5.0",
          "state": {
            "_model_module": "@jupyter-widgets/controls",
            "_model_module_version": "1.5.0",
            "_model_name": "DescriptionStyleModel",
            "_view_count": null,
            "_view_module": "@jupyter-widgets/base",
            "_view_module_version": "1.2.0",
            "_view_name": "StyleView",
            "description_width": ""
          }
        },
        "2a37e284e0cc4f20ad0846e03be70699": {
          "model_module": "@jupyter-widgets/base",
          "model_name": "LayoutModel",
          "model_module_version": "1.2.0",
          "state": {
            "_model_module": "@jupyter-widgets/base",
            "_model_module_version": "1.2.0",
            "_model_name": "LayoutModel",
            "_view_count": null,
            "_view_module": "@jupyter-widgets/base",
            "_view_module_version": "1.2.0",
            "_view_name": "LayoutView",
            "align_content": null,
            "align_items": null,
            "align_self": null,
            "border": null,
            "bottom": null,
            "display": null,
            "flex": null,
            "flex_flow": null,
            "grid_area": null,
            "grid_auto_columns": null,
            "grid_auto_flow": null,
            "grid_auto_rows": null,
            "grid_column": null,
            "grid_gap": null,
            "grid_row": null,
            "grid_template_areas": null,
            "grid_template_columns": null,
            "grid_template_rows": null,
            "height": null,
            "justify_content": null,
            "justify_items": null,
            "left": null,
            "margin": null,
            "max_height": null,
            "max_width": null,
            "min_height": null,
            "min_width": null,
            "object_fit": null,
            "object_position": null,
            "order": null,
            "overflow": null,
            "overflow_x": null,
            "overflow_y": null,
            "padding": null,
            "right": null,
            "top": null,
            "visibility": null,
            "width": null
          }
        },
        "945543980fdc4579b28acb5be35be4b3": {
          "model_module": "@jupyter-widgets/controls",
          "model_name": "ProgressStyleModel",
          "model_module_version": "1.5.0",
          "state": {
            "_model_module": "@jupyter-widgets/controls",
            "_model_module_version": "1.5.0",
            "_model_name": "ProgressStyleModel",
            "_view_count": null,
            "_view_module": "@jupyter-widgets/base",
            "_view_module_version": "1.2.0",
            "_view_name": "StyleView",
            "bar_color": null,
            "description_width": ""
          }
        },
        "2e9cf01830694194989240ad2e592dd1": {
          "model_module": "@jupyter-widgets/base",
          "model_name": "LayoutModel",
          "model_module_version": "1.2.0",
          "state": {
            "_model_module": "@jupyter-widgets/base",
            "_model_module_version": "1.2.0",
            "_model_name": "LayoutModel",
            "_view_count": null,
            "_view_module": "@jupyter-widgets/base",
            "_view_module_version": "1.2.0",
            "_view_name": "LayoutView",
            "align_content": null,
            "align_items": null,
            "align_self": null,
            "border": null,
            "bottom": null,
            "display": null,
            "flex": null,
            "flex_flow": null,
            "grid_area": null,
            "grid_auto_columns": null,
            "grid_auto_flow": null,
            "grid_auto_rows": null,
            "grid_column": null,
            "grid_gap": null,
            "grid_row": null,
            "grid_template_areas": null,
            "grid_template_columns": null,
            "grid_template_rows": null,
            "height": null,
            "justify_content": null,
            "justify_items": null,
            "left": null,
            "margin": null,
            "max_height": null,
            "max_width": null,
            "min_height": null,
            "min_width": null,
            "object_fit": null,
            "object_position": null,
            "order": null,
            "overflow": null,
            "overflow_x": null,
            "overflow_y": null,
            "padding": null,
            "right": null,
            "top": null,
            "visibility": null,
            "width": null
          }
        },
        "6d08c1db22d740ec98b1789ac985b5e8": {
          "model_module": "@jupyter-widgets/controls",
          "model_name": "DescriptionStyleModel",
          "model_module_version": "1.5.0",
          "state": {
            "_model_module": "@jupyter-widgets/controls",
            "_model_module_version": "1.5.0",
            "_model_name": "DescriptionStyleModel",
            "_view_count": null,
            "_view_module": "@jupyter-widgets/base",
            "_view_module_version": "1.2.0",
            "_view_name": "StyleView",
            "description_width": ""
          }
        },
        "08a51526440b4a11bbe31f6f39a1dfe0": {
          "model_module": "@jupyter-widgets/controls",
          "model_name": "HBoxModel",
          "model_module_version": "1.5.0",
          "state": {
            "_dom_classes": [],
            "_model_module": "@jupyter-widgets/controls",
            "_model_module_version": "1.5.0",
            "_model_name": "HBoxModel",
            "_view_count": null,
            "_view_module": "@jupyter-widgets/controls",
            "_view_module_version": "1.5.0",
            "_view_name": "HBoxView",
            "box_style": "",
            "children": [
              "IPY_MODEL_6931907437794495a7b38d0318925c01",
              "IPY_MODEL_a53bd9f8529b473dbf1b9d99aa148d3f",
              "IPY_MODEL_dcc87487545f4f9794fe7bf6d5787de9"
            ],
            "layout": "IPY_MODEL_05e76050ba4f414fa78742664222ba65"
          }
        },
        "6931907437794495a7b38d0318925c01": {
          "model_module": "@jupyter-widgets/controls",
          "model_name": "HTMLModel",
          "model_module_version": "1.5.0",
          "state": {
            "_dom_classes": [],
            "_model_module": "@jupyter-widgets/controls",
            "_model_module_version": "1.5.0",
            "_model_name": "HTMLModel",
            "_view_count": null,
            "_view_module": "@jupyter-widgets/controls",
            "_view_module_version": "1.5.0",
            "_view_name": "HTMLView",
            "description": "",
            "description_tooltip": null,
            "layout": "IPY_MODEL_1a3a9df6bbe04a919581af64eaa0db69",
            "placeholder": "​",
            "style": "IPY_MODEL_8e5c6747f9bb43aa8bb1352c34735899",
            "value": "special_tokens_map.json: 100%"
          }
        },
        "a53bd9f8529b473dbf1b9d99aa148d3f": {
          "model_module": "@jupyter-widgets/controls",
          "model_name": "FloatProgressModel",
          "model_module_version": "1.5.0",
          "state": {
            "_dom_classes": [],
            "_model_module": "@jupyter-widgets/controls",
            "_model_module_version": "1.5.0",
            "_model_name": "FloatProgressModel",
            "_view_count": null,
            "_view_module": "@jupyter-widgets/controls",
            "_view_module_version": "1.5.0",
            "_view_name": "ProgressView",
            "bar_style": "success",
            "description": "",
            "description_tooltip": null,
            "layout": "IPY_MODEL_55d9da23f05f4ae7b7b724ff4ba5f20f",
            "max": 1786,
            "min": 0,
            "orientation": "horizontal",
            "style": "IPY_MODEL_49edb1848b0542689d39299d021fc345",
            "value": 1786
          }
        },
        "dcc87487545f4f9794fe7bf6d5787de9": {
          "model_module": "@jupyter-widgets/controls",
          "model_name": "HTMLModel",
          "model_module_version": "1.5.0",
          "state": {
            "_dom_classes": [],
            "_model_module": "@jupyter-widgets/controls",
            "_model_module_version": "1.5.0",
            "_model_name": "HTMLModel",
            "_view_count": null,
            "_view_module": "@jupyter-widgets/controls",
            "_view_module_version": "1.5.0",
            "_view_name": "HTMLView",
            "description": "",
            "description_tooltip": null,
            "layout": "IPY_MODEL_044da5ad71e64dba9408c6f30f97ef2a",
            "placeholder": "​",
            "style": "IPY_MODEL_3455798602d24c379d20d6cdde2891fd",
            "value": " 1.79k/1.79k [00:00&lt;00:00, 91.2kB/s]"
          }
        },
        "05e76050ba4f414fa78742664222ba65": {
          "model_module": "@jupyter-widgets/base",
          "model_name": "LayoutModel",
          "model_module_version": "1.2.0",
          "state": {
            "_model_module": "@jupyter-widgets/base",
            "_model_module_version": "1.2.0",
            "_model_name": "LayoutModel",
            "_view_count": null,
            "_view_module": "@jupyter-widgets/base",
            "_view_module_version": "1.2.0",
            "_view_name": "LayoutView",
            "align_content": null,
            "align_items": null,
            "align_self": null,
            "border": null,
            "bottom": null,
            "display": null,
            "flex": null,
            "flex_flow": null,
            "grid_area": null,
            "grid_auto_columns": null,
            "grid_auto_flow": null,
            "grid_auto_rows": null,
            "grid_column": null,
            "grid_gap": null,
            "grid_row": null,
            "grid_template_areas": null,
            "grid_template_columns": null,
            "grid_template_rows": null,
            "height": null,
            "justify_content": null,
            "justify_items": null,
            "left": null,
            "margin": null,
            "max_height": null,
            "max_width": null,
            "min_height": null,
            "min_width": null,
            "object_fit": null,
            "object_position": null,
            "order": null,
            "overflow": null,
            "overflow_x": null,
            "overflow_y": null,
            "padding": null,
            "right": null,
            "top": null,
            "visibility": null,
            "width": null
          }
        },
        "1a3a9df6bbe04a919581af64eaa0db69": {
          "model_module": "@jupyter-widgets/base",
          "model_name": "LayoutModel",
          "model_module_version": "1.2.0",
          "state": {
            "_model_module": "@jupyter-widgets/base",
            "_model_module_version": "1.2.0",
            "_model_name": "LayoutModel",
            "_view_count": null,
            "_view_module": "@jupyter-widgets/base",
            "_view_module_version": "1.2.0",
            "_view_name": "LayoutView",
            "align_content": null,
            "align_items": null,
            "align_self": null,
            "border": null,
            "bottom": null,
            "display": null,
            "flex": null,
            "flex_flow": null,
            "grid_area": null,
            "grid_auto_columns": null,
            "grid_auto_flow": null,
            "grid_auto_rows": null,
            "grid_column": null,
            "grid_gap": null,
            "grid_row": null,
            "grid_template_areas": null,
            "grid_template_columns": null,
            "grid_template_rows": null,
            "height": null,
            "justify_content": null,
            "justify_items": null,
            "left": null,
            "margin": null,
            "max_height": null,
            "max_width": null,
            "min_height": null,
            "min_width": null,
            "object_fit": null,
            "object_position": null,
            "order": null,
            "overflow": null,
            "overflow_x": null,
            "overflow_y": null,
            "padding": null,
            "right": null,
            "top": null,
            "visibility": null,
            "width": null
          }
        },
        "8e5c6747f9bb43aa8bb1352c34735899": {
          "model_module": "@jupyter-widgets/controls",
          "model_name": "DescriptionStyleModel",
          "model_module_version": "1.5.0",
          "state": {
            "_model_module": "@jupyter-widgets/controls",
            "_model_module_version": "1.5.0",
            "_model_name": "DescriptionStyleModel",
            "_view_count": null,
            "_view_module": "@jupyter-widgets/base",
            "_view_module_version": "1.2.0",
            "_view_name": "StyleView",
            "description_width": ""
          }
        },
        "55d9da23f05f4ae7b7b724ff4ba5f20f": {
          "model_module": "@jupyter-widgets/base",
          "model_name": "LayoutModel",
          "model_module_version": "1.2.0",
          "state": {
            "_model_module": "@jupyter-widgets/base",
            "_model_module_version": "1.2.0",
            "_model_name": "LayoutModel",
            "_view_count": null,
            "_view_module": "@jupyter-widgets/base",
            "_view_module_version": "1.2.0",
            "_view_name": "LayoutView",
            "align_content": null,
            "align_items": null,
            "align_self": null,
            "border": null,
            "bottom": null,
            "display": null,
            "flex": null,
            "flex_flow": null,
            "grid_area": null,
            "grid_auto_columns": null,
            "grid_auto_flow": null,
            "grid_auto_rows": null,
            "grid_column": null,
            "grid_gap": null,
            "grid_row": null,
            "grid_template_areas": null,
            "grid_template_columns": null,
            "grid_template_rows": null,
            "height": null,
            "justify_content": null,
            "justify_items": null,
            "left": null,
            "margin": null,
            "max_height": null,
            "max_width": null,
            "min_height": null,
            "min_width": null,
            "object_fit": null,
            "object_position": null,
            "order": null,
            "overflow": null,
            "overflow_x": null,
            "overflow_y": null,
            "padding": null,
            "right": null,
            "top": null,
            "visibility": null,
            "width": null
          }
        },
        "49edb1848b0542689d39299d021fc345": {
          "model_module": "@jupyter-widgets/controls",
          "model_name": "ProgressStyleModel",
          "model_module_version": "1.5.0",
          "state": {
            "_model_module": "@jupyter-widgets/controls",
            "_model_module_version": "1.5.0",
            "_model_name": "ProgressStyleModel",
            "_view_count": null,
            "_view_module": "@jupyter-widgets/base",
            "_view_module_version": "1.2.0",
            "_view_name": "StyleView",
            "bar_color": null,
            "description_width": ""
          }
        },
        "044da5ad71e64dba9408c6f30f97ef2a": {
          "model_module": "@jupyter-widgets/base",
          "model_name": "LayoutModel",
          "model_module_version": "1.2.0",
          "state": {
            "_model_module": "@jupyter-widgets/base",
            "_model_module_version": "1.2.0",
            "_model_name": "LayoutModel",
            "_view_count": null,
            "_view_module": "@jupyter-widgets/base",
            "_view_module_version": "1.2.0",
            "_view_name": "LayoutView",
            "align_content": null,
            "align_items": null,
            "align_self": null,
            "border": null,
            "bottom": null,
            "display": null,
            "flex": null,
            "flex_flow": null,
            "grid_area": null,
            "grid_auto_columns": null,
            "grid_auto_flow": null,
            "grid_auto_rows": null,
            "grid_column": null,
            "grid_gap": null,
            "grid_row": null,
            "grid_template_areas": null,
            "grid_template_columns": null,
            "grid_template_rows": null,
            "height": null,
            "justify_content": null,
            "justify_items": null,
            "left": null,
            "margin": null,
            "max_height": null,
            "max_width": null,
            "min_height": null,
            "min_width": null,
            "object_fit": null,
            "object_position": null,
            "order": null,
            "overflow": null,
            "overflow_x": null,
            "overflow_y": null,
            "padding": null,
            "right": null,
            "top": null,
            "visibility": null,
            "width": null
          }
        },
        "3455798602d24c379d20d6cdde2891fd": {
          "model_module": "@jupyter-widgets/controls",
          "model_name": "DescriptionStyleModel",
          "model_module_version": "1.5.0",
          "state": {
            "_model_module": "@jupyter-widgets/controls",
            "_model_module_version": "1.5.0",
            "_model_name": "DescriptionStyleModel",
            "_view_count": null,
            "_view_module": "@jupyter-widgets/base",
            "_view_module_version": "1.2.0",
            "_view_name": "StyleView",
            "description_width": ""
          }
        }
      }
    }
  },
  "nbformat": 4,
  "nbformat_minor": 0
}